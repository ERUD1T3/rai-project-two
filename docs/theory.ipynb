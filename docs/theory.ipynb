{
 "cells": [
  {
   "cell_type": "markdown",
   "metadata": {},
   "source": [
    "# CSE 5694 - Robotics and AI - Project 1 \n",
    "\n",
    "This project aims at implementing a sensor fusion module based on a Dynamic Bayesian Network whereby the robot (NAO), when moving along a wall using it's sensors,  decides if the robot has passed 3 successive door before returning to the beginning\n",
    "\n",
    "## Team\n",
    "\n",
    "- Josias Moukpe jmoukpe2016@my.fit.edu \n",
    "- William Stern Wstern2019@my.fit.edu\n",
    "- Akill Hosang Ahosang2021@my.fit.edu\n",
    "\n",
    "## Description\n",
    "\n",
    "Our aim is to implement a sensor fusion module based on a Bayesian Network. We are working with the NAO robot from Softbank robotics. NAO is a bipedal robot with a remarkable suite of sensors. However, for this project, we will focus on using NAO's sonar sensors to measure its distance to the wall. NAO will side step along the wall and, when has moved 0.1 meters past an open door, will exclaim \"I just past the door!\". \n",
    "To build the Bayesian Network, we have devised the following random variables:\n",
    "\n",
    "- $D_t$: the event of passing by the door (True/False) \n",
    "- $A_t$: action or whether the robot has moved either forward, backward or stayed in place\n",
    "- $t$: timestep variable.\n",
    "\n",
    "\n",
    "From there then follows the Dynamic Bayesian Network below:\n",
    "\n",
    "<img src=\"DBN.png\" >\n",
    "\n",
    "\n",
    "Based on the Network, we would like to find $P(D_t = true | A_{0:t})$ as the probability that the robot passed by the door given the actions it has taken until the last timestep at $n$. It depends on the actions because, as the robot moves along the ways, it is trying to maintain constant distance from the wall and will adjust it's trajectory to maintain course. If the robot sense 2 major course correction due to a change the measured distance from the wall, then we know, it has passed an opened door.\n",
    "\n",
    "To calculate make our conditional propability tables, we collected samples over several runs and collected them into csv files. The probabilities where then found according to the following formulas:\n",
    "\n",
    "\n",
    "\n",
    "## Appendix\n",
    "- measurements source code:\n",
    "- cpt computing source code:\n",
    "- sensor fusion computing belief map source code: \n",
    "- project repository: \n",
    "- final cpts folder: \n",
    "\n",
    "## References\n",
    "\n",
    "[1] https://www.cs.cmu.edu/~cga/nao/doc/user-guide.pdf\\\n",
    "[2] http://doc.aldebaran.com/1-14/naoqi/motion/control-walk-api.html#ALMotionProxy::move__floatCR.floatCR.floatCR\\\n",
    "[3] https://cs.fit.edu/~msilaghi/nao_windows/\\"
   ]
  }
 ],
 "metadata": {
  "kernelspec": {
   "display_name": "Python 3.10.6 64-bit",
   "language": "python",
   "name": "python3"
  },
  "language_info": {
   "name": "python",
   "version": "3.10.6"
  },
  "orig_nbformat": 4,
  "vscode": {
   "interpreter": {
    "hash": "916dbcbb3f70747c44a77c7bcd40155683ae19c65e1c03b4aa3499c5328201f1"
   }
  }
 },
 "nbformat": 4,
 "nbformat_minor": 2
}
