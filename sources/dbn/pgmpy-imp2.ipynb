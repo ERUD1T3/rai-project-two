{
 "cells": [
  {
   "cell_type": "code",
   "execution_count": 9,
   "id": "530139ff",
   "metadata": {},
   "outputs": [],
   "source": [
    "import pandas as pd\n",
    "import numpy as  np\n",
    "from pgmpy.factors.discrete import TabularCPD\n",
    "from pgmpy.models import DynamicBayesianNetwork as DBN\n",
    "from pgmpy.inference import DBNInference, VariableElimination\n",
    "import glob"
   ]
  },
  {
   "cell_type": "code",
   "execution_count": 4,
   "id": "4786c84e",
   "metadata": {},
   "outputs": [],
   "source": [
    "dbnet = DBN()\n",
    "dbnet.add_edges_from([\n",
    "    (('C', 0), ('A', 0)),\n",
    "    (('C', 0), ('A', 1)),\n",
    "    (('A', 0), ('P', 0)), \n",
    "    (('A', 0), ('P', 1)),\n",
    "    (('C', 1), ('A', 1)),\n",
    "    (('A', 1), ('P', 1))\n",
    "])"
   ]
  },
  {
   "cell_type": "code",
   "execution_count": 3,
   "id": "2869c898",
   "metadata": {},
   "outputs": [],
   "source": [
    "#Close to door or not. If dist < sensor_dist then 0.9 prob it is close\n",
    "close_cpd = TabularCPD(('C', 0), 2, [[0.9], [0.1]])\n",
    "\n",
    "#Probability a certain action is taken. For first step, if Close is True, 0 prob it walks back, 0.15 it walks forward, 0.85 it stays\n",
    "action_cpd = TabularCPD(('A', 0), 3, [[0, 0], \n",
    "                                   [0.15, 0.89], \n",
    "                                   [0.85, 0.11]],\n",
    "                    evidence=[('C', 0)],\n",
    "                    evidence_card=[2])\n",
    "\n",
    "#Prob that the robot has passed the door. If step was backwad, 0.95 chance door was passed. If forward, 0 chance. If stayed, 0.05 chance \n",
    "passed_door_cpd = TabularCPD(('P', 0), 2, [[0.95, 0, 0.05],\n",
    "                                           [0.05, 1, 0.95]],\n",
    "                        evidence=[('A', 0)],\n",
    "                        evidence_card=[3])\n",
    "\n",
    "c_i_cpd = TabularCPD(('C', 1), 2, [[0.9],\n",
    "                                   [0.1]])\n",
    "\n",
    "a_i_cpd = TabularCPD(('A', 1), 3, [[0.2, 0, 0.92, 0], \n",
    "                                   [0, 0.88, 0, 0.15], \n",
    "                                   [0.8, 0.12, 0.08, 0.85]],\n",
    "                    evidence=[('C', 0), ('C', 1)],\n",
    "                    evidence_card=[2, 2])\n",
    "\n",
    "p_i_cpd = TabularCPD(('P', 1), 2, [[0, 0.1, 0.03, 0, 0.15, 0.95, 0, 0.15, 0], \n",
    "                                   [1, 0.9, 0.97, 1, 0.85, 0.05, 1, 0.85, 1]],\n",
    "                    evidence=[('A', 0), ('A', 1)],\n",
    "                    evidence_card=[3, 3])"
   ]
  },
  {
   "cell_type": "code",
   "execution_count": 4,
   "id": "f68e6207",
   "metadata": {},
   "outputs": [],
   "source": [
    "dbnet.add_cpds(close_cpd, action_cpd, passed_door_cpd, c_i_cpd, a_i_cpd, p_i_cpd)\n",
    "\n",
    "dbnet.initialize_initial_state()"
   ]
  },
  {
   "cell_type": "code",
   "execution_count": 5,
   "id": "7e711d9d",
   "metadata": {},
   "outputs": [],
   "source": [
    "dbn_inf = DBNInference(dbnet)"
   ]
  },
  {
   "cell_type": "code",
   "execution_count": 6,
   "id": "36dc2b0f",
   "metadata": {},
   "outputs": [
    {
     "data": {
      "text/plain": [
       "<pgmpy.inference.dbn_inference.DBNInference at 0x2ba7370fb50>"
      ]
     },
     "execution_count": 6,
     "metadata": {},
     "output_type": "execute_result"
    }
   ],
   "source": [
    "dbn_inf"
   ]
  },
  {
   "cell_type": "code",
   "execution_count": 7,
   "id": "5d6e1992",
   "metadata": {},
   "outputs": [
    {
     "name": "stderr",
     "output_type": "stream",
     "text": [
      "C:\\Users\\itchi\\anaconda3\\envs\\rai\\lib\\site-packages\\pgmpy\\factors\\discrete\\DiscreteFactor.py:787: RuntimeWarning: invalid value encountered in divide\n",
      "  phi.values = phi.values / phi1.values\n",
      "C:\\Users\\itchi\\anaconda3\\envs\\rai\\lib\\site-packages\\pgmpy\\factors\\discrete\\DiscreteFactor.py:478: RuntimeWarning: invalid value encountered in divide\n",
      "  phi.values = phi.values / phi.values.sum()\n"
     ]
    },
    {
     "ename": "ValueError",
     "evalue": "Factors defined on clusters of variable notpresent in model",
     "output_type": "error",
     "traceback": [
      "\u001b[1;31m---------------------------------------------------------------------------\u001b[0m",
      "\u001b[1;31mValueError\u001b[0m                                Traceback (most recent call last)",
      "Input \u001b[1;32mIn [7]\u001b[0m, in \u001b[0;36m<cell line: 1>\u001b[1;34m()\u001b[0m\n\u001b[1;32m----> 1\u001b[0m \u001b[43mdbn_inf\u001b[49m\u001b[38;5;241;43m.\u001b[39;49m\u001b[43mforward_inference\u001b[49m\u001b[43m(\u001b[49m\u001b[43m[\u001b[49m\u001b[43m(\u001b[49m\u001b[38;5;124;43m'\u001b[39;49m\u001b[38;5;124;43mC\u001b[39;49m\u001b[38;5;124;43m'\u001b[39;49m\u001b[43m,\u001b[49m\u001b[43m \u001b[49m\u001b[38;5;241;43m0\u001b[39;49m\u001b[43m)\u001b[49m\u001b[43m]\u001b[49m\u001b[43m,\u001b[49m\u001b[43m \u001b[49m\u001b[43m{\u001b[49m\u001b[43m(\u001b[49m\u001b[38;5;124;43m'\u001b[39;49m\u001b[38;5;124;43mA\u001b[39;49m\u001b[38;5;124;43m'\u001b[39;49m\u001b[43m,\u001b[49m\u001b[43m \u001b[49m\u001b[38;5;241;43m0\u001b[39;49m\u001b[43m)\u001b[49m\u001b[43m:\u001b[49m\u001b[38;5;241;43m0\u001b[39;49m\u001b[43m,\u001b[49m\u001b[43m \u001b[49m\u001b[43m(\u001b[49m\u001b[38;5;124;43m'\u001b[39;49m\u001b[38;5;124;43mA\u001b[39;49m\u001b[38;5;124;43m'\u001b[39;49m\u001b[43m,\u001b[49m\u001b[43m \u001b[49m\u001b[38;5;241;43m1\u001b[39;49m\u001b[43m)\u001b[49m\u001b[43m:\u001b[49m\u001b[38;5;241;43m0\u001b[39;49m\u001b[43m}\u001b[49m\u001b[43m)\u001b[49m[\u001b[38;5;124m'\u001b[39m\u001b[38;5;124mC\u001b[39m\u001b[38;5;124m'\u001b[39m, \u001b[38;5;241m0\u001b[39m]\u001b[38;5;241m.\u001b[39mvalues\n",
      "File \u001b[1;32m~\\anaconda3\\envs\\rai\\lib\\site-packages\\pgmpy\\inference\\dbn_inference.py:320\u001b[0m, in \u001b[0;36mDBNInference.forward_inference\u001b[1;34m(self, variables, evidence, args)\u001b[0m\n\u001b[0;32m    318\u001b[0m potential_dict[time_slice] \u001b[38;5;241m=\u001b[39m new_factor\n\u001b[0;32m    319\u001b[0m mid_bp \u001b[38;5;241m=\u001b[39m BeliefPropagation(\u001b[38;5;28mself\u001b[39m\u001b[38;5;241m.\u001b[39mone_and_half_junction_tree)\n\u001b[1;32m--> 320\u001b[0m \u001b[38;5;28;43mself\u001b[39;49m\u001b[38;5;241;43m.\u001b[39;49m\u001b[43m_update_belief\u001b[49m\u001b[43m(\u001b[49m\u001b[43mmid_bp\u001b[49m\u001b[43m,\u001b[49m\u001b[43m \u001b[49m\u001b[38;5;28;43mself\u001b[39;49m\u001b[38;5;241;43m.\u001b[39;49m\u001b[43min_clique\u001b[49m\u001b[43m,\u001b[49m\u001b[43m \u001b[49m\u001b[43mnew_factor\u001b[49m\u001b[43m)\u001b[49m\n\u001b[0;32m    322\u001b[0m \u001b[38;5;28;01mif\u001b[39;00m evidence_time:\n\u001b[0;32m    323\u001b[0m     interface_nodes_dict \u001b[38;5;241m=\u001b[39m {\n\u001b[0;32m    324\u001b[0m         (k[\u001b[38;5;241m0\u001b[39m], \u001b[38;5;241m0\u001b[39m): v\n\u001b[0;32m    325\u001b[0m         \u001b[38;5;28;01mfor\u001b[39;00m k, v \u001b[38;5;129;01min\u001b[39;00m evidence_time\u001b[38;5;241m.\u001b[39mitems()\n\u001b[0;32m    326\u001b[0m         \u001b[38;5;28;01mif\u001b[39;00m k \u001b[38;5;129;01min\u001b[39;00m \u001b[38;5;28mself\u001b[39m\u001b[38;5;241m.\u001b[39minterface_nodes_1\n\u001b[0;32m    327\u001b[0m     }\n",
      "File \u001b[1;32m~\\anaconda3\\envs\\rai\\lib\\site-packages\\pgmpy\\inference\\dbn_inference.py:184\u001b[0m, in \u001b[0;36mDBNInference._update_belief\u001b[1;34m(self, belief_prop, clique, clique_potential, message)\u001b[0m\n\u001b[0;32m    182\u001b[0m \u001b[38;5;28;01melse\u001b[39;00m:\n\u001b[0;32m    183\u001b[0m     new_factor \u001b[38;5;241m=\u001b[39m old_factor \u001b[38;5;241m*\u001b[39m clique_potential\n\u001b[1;32m--> 184\u001b[0m \u001b[43mbelief_prop\u001b[49m\u001b[38;5;241;43m.\u001b[39;49m\u001b[43mjunction_tree\u001b[49m\u001b[38;5;241;43m.\u001b[39;49m\u001b[43madd_factors\u001b[49m\u001b[43m(\u001b[49m\u001b[43mnew_factor\u001b[49m\u001b[43m)\u001b[49m\n\u001b[0;32m    185\u001b[0m belief_prop\u001b[38;5;241m.\u001b[39mcalibrate()\n",
      "File \u001b[1;32m~\\anaconda3\\envs\\rai\\lib\\site-packages\\pgmpy\\models\\ClusterGraph.py:158\u001b[0m, in \u001b[0;36mClusterGraph.add_factors\u001b[1;34m(self, *factors)\u001b[0m\n\u001b[0;32m    156\u001b[0m nodes \u001b[38;5;241m=\u001b[39m [\u001b[38;5;28mset\u001b[39m(node) \u001b[38;5;28;01mfor\u001b[39;00m node \u001b[38;5;129;01min\u001b[39;00m \u001b[38;5;28mself\u001b[39m\u001b[38;5;241m.\u001b[39mnodes()]\n\u001b[0;32m    157\u001b[0m \u001b[38;5;28;01mif\u001b[39;00m factor_scope \u001b[38;5;129;01mnot\u001b[39;00m \u001b[38;5;129;01min\u001b[39;00m nodes:\n\u001b[1;32m--> 158\u001b[0m     \u001b[38;5;28;01mraise\u001b[39;00m \u001b[38;5;167;01mValueError\u001b[39;00m(\n\u001b[0;32m    159\u001b[0m         \u001b[38;5;124m\"\u001b[39m\u001b[38;5;124mFactors defined on clusters of variable not\u001b[39m\u001b[38;5;124m\"\u001b[39m \u001b[38;5;124m\"\u001b[39m\u001b[38;5;124mpresent in model\u001b[39m\u001b[38;5;124m\"\u001b[39m\n\u001b[0;32m    160\u001b[0m     )\n\u001b[0;32m    162\u001b[0m \u001b[38;5;28mself\u001b[39m\u001b[38;5;241m.\u001b[39mfactors\u001b[38;5;241m.\u001b[39mappend(factor)\n",
      "\u001b[1;31mValueError\u001b[0m: Factors defined on clusters of variable notpresent in model"
     ]
    }
   ],
   "source": [
    "dbn_inf.forward_inference([('C', 0)], {('A', 0):0, ('A', 1):0})['C', 0].values"
   ]
  },
  {
   "cell_type": "code",
   "execution_count": null,
   "id": "1a9d289a",
   "metadata": {},
   "outputs": [],
   "source": [
    "readings = glob.glob(\"../../data/*.csv\")\n",
    "data = pd.read_csv(readings[0], usecols=[\"z\", \"a\", \"d\"])\n",
    "\n",
    "# 1:Close to wall, 0:Far from wall\n",
    "data[\"z\"] = np.where(data[\"z\"] < 0.4, int(1), int(0))\n",
    "\n",
    "# 0: Backward, 1:Forward, 2:Stay\n",
    "data.loc[data[\"a\"]==\"backward\", \"a\"] = int(0)\n",
    "data.loc[data[\"a\"]==\"forward\", \"a\"] = int(1)\n",
    "data.loc[data[\"a\"]==\"stay\", \"a\"] = int(2)\n",
    "\n",
    "data.loc[data[\"d\"]==False, \"d\"] = int(0)\n",
    "data.loc[data[\"d\"]==True, \"d\"] = int(1)\n",
    "\n",
    "data.head()"
   ]
  },
  {
   "cell_type": "code",
   "execution_count": null,
   "id": "7968a599",
   "metadata": {},
   "outputs": [],
   "source": [
    "colnames = []\n",
    "\n",
    "timesteps = len(data)\n",
    "\n",
    "for t in range(timesteps):\n",
    "    colnames.extend([('C', t), ('A', t), ('P', t)])\n",
    "    \n",
    "flat = data.to_numpy().flatten()\n",
    "flat = np.expand_dims(flat, axis=0)\n",
    "\n",
    "df = pd.DataFrame(flat, columns=colnames)\n",
    "\n",
    "data2 = np.random.randint(low=0, high=3, size=(1000, 152*3))\n",
    "df2 = pd.DataFrame(data2, columns=colnames)\n",
    "# print(df[[('C', 0)]])\n",
    "# print(df2[[('C', 0)]])\n",
    "\n",
    "data3 = []\n",
    "for x in range(152):\n",
    "    data3.append(np.random.randint(low=0, high=1))\n",
    "    data3.append(np.random.randint(low=0, high=1))\n",
    "    data3.append(np.random.randint(low=0, high=1))\n",
    "\n",
    "data3 = np.expand_dims(data3, axis=0)\n",
    "df3 = pd.DataFrame(data3, columns=colnames)\n",
    "print(flat.shape)\n",
    "print(data2.shape)\n",
    "print(data3.shape)\n",
    "\n",
    "print(df3[[('C', 0), ('A', 0), ('P', 0)]])\n",
    "\n",
    "dbnet.fit(df2)"
   ]
  },
  {
   "cell_type": "code",
   "execution_count": null,
   "id": "e0cbc4ea",
   "metadata": {},
   "outputs": [],
   "source": [
    "df.head()"
   ]
  },
  {
   "cell_type": "code",
   "execution_count": null,
   "id": "fa3e101d",
   "metadata": {},
   "outputs": [],
   "source": [
    "df2.head()"
   ]
  },
  {
   "cell_type": "code",
   "execution_count": null,
   "id": "4f6d1b26",
   "metadata": {},
   "outputs": [],
   "source": [
    "df3.head()"
   ]
  },
  {
   "cell_type": "code",
   "execution_count": null,
   "id": "f62ae429",
   "metadata": {},
   "outputs": [],
   "source": [
    "dbnet.get_cpds()[2].get_values()"
   ]
  },
  {
   "cell_type": "code",
   "execution_count": null,
   "id": "a41a873b",
   "metadata": {},
   "outputs": [],
   "source": [
    "dbnet.get_cpds()"
   ]
  },
  {
   "cell_type": "code",
   "execution_count": null,
   "id": "4006b955",
   "metadata": {},
   "outputs": [],
   "source": [
    "dbnet.initialize_initial_state()\n",
    "dbn_inf = DBNInference(dbnet)"
   ]
  },
  {
   "cell_type": "code",
   "execution_count": null,
   "id": "61157ee5",
   "metadata": {},
   "outputs": [],
   "source": [
    "dbn_inf.query([('P',0)], {('C', 1):0, ('A', 0):0})"
   ]
  },
  {
   "cell_type": "code",
   "execution_count": 10,
   "id": "e1ac4441",
   "metadata": {},
   "outputs": [
    {
     "ename": "AttributeError",
     "evalue": "'DynamicBayesianNetwork' object has no attribute 'factors'",
     "output_type": "error",
     "traceback": [
      "\u001b[0;31m---------------------------------------------------------------------------\u001b[0m",
      "\u001b[0;31mAttributeError\u001b[0m                            Traceback (most recent call last)",
      "\u001b[0;32m/tmp/ipykernel_11873/2298563378.py\u001b[0m in \u001b[0;36m<module>\u001b[0;34m\u001b[0m\n\u001b[1;32m     44\u001b[0m \u001b[0;31m# dbnet.check_model()\u001b[0m\u001b[0;34m\u001b[0m\u001b[0;34m\u001b[0m\u001b[0m\n\u001b[1;32m     45\u001b[0m \u001b[0;34m\u001b[0m\u001b[0m\n\u001b[0;32m---> 46\u001b[0;31m \u001b[0msolver\u001b[0m\u001b[0;34m.\u001b[0m\u001b[0mquery\u001b[0m\u001b[0;34m(\u001b[0m\u001b[0;34m[\u001b[0m\u001b[0;34m(\u001b[0m\u001b[0;34m'C'\u001b[0m\u001b[0;34m,\u001b[0m \u001b[0;36m1\u001b[0m\u001b[0;34m)\u001b[0m\u001b[0;34m]\u001b[0m\u001b[0;34m,\u001b[0m \u001b[0;34m{\u001b[0m\u001b[0;34m(\u001b[0m\u001b[0;34m'A'\u001b[0m\u001b[0;34m,\u001b[0m \u001b[0;36m1\u001b[0m\u001b[0;34m)\u001b[0m\u001b[0;34m:\u001b[0m\u001b[0;36m0\u001b[0m\u001b[0;34m,\u001b[0m \u001b[0;34m(\u001b[0m\u001b[0;34m'P'\u001b[0m\u001b[0;34m,\u001b[0m \u001b[0;36m1\u001b[0m\u001b[0;34m)\u001b[0m\u001b[0;34m:\u001b[0m\u001b[0;36m1\u001b[0m\u001b[0;34m}\u001b[0m\u001b[0;34m)\u001b[0m\u001b[0;34m[\u001b[0m\u001b[0;34m(\u001b[0m\u001b[0;34m'C'\u001b[0m\u001b[0;34m,\u001b[0m \u001b[0;36m1\u001b[0m\u001b[0;34m)\u001b[0m\u001b[0;34m]\u001b[0m\u001b[0;34m.\u001b[0m\u001b[0mvalues\u001b[0m\u001b[0;34m\u001b[0m\u001b[0;34m\u001b[0m\u001b[0m\n\u001b[0m\u001b[1;32m     47\u001b[0m \u001b[0;31m# dbn_inf.backward_inference([('A', 0)], {('P', 0):0, ('P', 1):1, ('P', 2):1})[('A', 0)].values\u001b[0m\u001b[0;34m\u001b[0m\u001b[0;34m\u001b[0m\u001b[0m\n",
      "\u001b[0;32m~/anaconda3/lib/python3.9/site-packages/pgmpy/inference/ExactInference.py\u001b[0m in \u001b[0;36mquery\u001b[0;34m(self, variables, evidence, virtual_evidence, elimination_order, joint, show_progress)\u001b[0m\n\u001b[1;32m    318\u001b[0m         \u001b[0;32melse\u001b[0m\u001b[0;34m:\u001b[0m\u001b[0;34m\u001b[0m\u001b[0;34m\u001b[0m\u001b[0m\n\u001b[1;32m    319\u001b[0m             \u001b[0mmodel_reduced\u001b[0m \u001b[0;34m=\u001b[0m \u001b[0mself\u001b[0m\u001b[0;34m.\u001b[0m\u001b[0mmodel\u001b[0m\u001b[0;34m\u001b[0m\u001b[0;34m\u001b[0m\u001b[0m\n\u001b[0;32m--> 320\u001b[0;31m             \u001b[0mfactors\u001b[0m \u001b[0;34m=\u001b[0m \u001b[0mself\u001b[0m\u001b[0;34m.\u001b[0m\u001b[0mmodel\u001b[0m\u001b[0;34m.\u001b[0m\u001b[0mfactors\u001b[0m\u001b[0;34m\u001b[0m\u001b[0;34m\u001b[0m\u001b[0m\n\u001b[0m\u001b[1;32m    321\u001b[0m \u001b[0;34m\u001b[0m\u001b[0m\n\u001b[1;32m    322\u001b[0m         \u001b[0;31m# Step 4: If elimination_order is greedy, do a tensor contraction approach\u001b[0m\u001b[0;34m\u001b[0m\u001b[0;34m\u001b[0m\u001b[0m\n",
      "\u001b[0;31mAttributeError\u001b[0m: 'DynamicBayesianNetwork' object has no attribute 'factors'"
     ]
    }
   ],
   "source": [
    "dbnet = DBN()\n",
    "dbnet.add_edges_from([\n",
    "    (('C', 0), ('A', 0)),\n",
    "    (('A', 0), ('P', 0)),\n",
    "    (('C', 1), ('A', 1)),\n",
    "    (('A', 1), ('P', 1)),\n",
    "    (('C', 0), ('A', 1)),\n",
    "    (('A', 0), ('P', 1)),\n",
    "])\n",
    "\n",
    "c_start_cpd = TabularCPD(('C', 0), 2, [[0.5], [0.5]])\n",
    "\n",
    "a_i_cpd = TabularCPD(('A', 0), 3, [[0.3, 0.85],\n",
    "                                   [0.3, 0.1],\n",
    "                                   [0.4, 0.05]],\n",
    "                     evidence=[('C', 0)],\n",
    "                     evidence_card=[2])\n",
    "\n",
    "p_i_cpd = TabularCPD(('P', 0), 2, [[0.2, 0.3, 0.4],\n",
    "                                   [0.8, 0.7, 0.6]],\n",
    "                     evidence=[('A', 0)],\n",
    "                     evidence_card=[3])\n",
    "\n",
    "c_trans_cpd = TabularCPD(('C', 1), 2, [[0.4], [0.6]])\n",
    "\n",
    "a_trans_cpd = TabularCPD(('A', 1), 3, [[0.3, 0.85, 0.34 ,0.66],\n",
    "                                   [0.3, 0.1, 0.21, 0.23],\n",
    "                                   [0.4, 0.05, 0.45, 0.11]],\n",
    "                     evidence=[('C', 0), ('C', 1)],\n",
    "                     evidence_card=[2, 2])\n",
    "\n",
    "p_trans_cpd = TabularCPD(('P', 1), 2, [[0.2, 0.3, 0.4, 0.2, 0.3, 0.4, 0.2, 0.3, 0.4],\n",
    "                                   [0.8, 0.7, 0.6, 0.8, 0.7, 0.6, 0.8, 0.7, 0.6]],\n",
    "                     evidence=[('A', 0), ('A', 1)],\n",
    "                     evidence_card=[3, 3])\n",
    "\n",
    "\n",
    "dbnet.add_cpds(c_start_cpd, a_i_cpd, p_i_cpd, c_trans_cpd, a_trans_cpd, p_trans_cpd)\n",
    "\n",
    "dbnet.initialize_initial_state()\n",
    "\n",
    "solver = VariableElimination(dbnet)\n",
    "\n",
    "# dbnet.check_model()\n",
    "\n",
    "solver.query([('C', 1)], {('A', 1):0, ('P', 1):1})[('C', 1)].values\n",
    "# dbn_inf.backward_inference([('A', 0)], {('P', 0):0, ('P', 1):1, ('P', 2):1})[('A', 0)].values"
   ]
  },
  {
   "cell_type": "code",
   "execution_count": 6,
   "id": "e6771cab",
   "metadata": {},
   "outputs": [
    {
     "ename": "ValueError",
     "evalue": "Factors defined on clusters of variable notpresent in model",
     "output_type": "error",
     "traceback": [
      "\u001b[0;31m---------------------------------------------------------------------------\u001b[0m",
      "\u001b[0;31mValueError\u001b[0m                                Traceback (most recent call last)",
      "\u001b[0;32m/tmp/ipykernel_11873/2064270086.py\u001b[0m in \u001b[0;36m<module>\u001b[0;34m\u001b[0m\n\u001b[0;32m----> 1\u001b[0;31m \u001b[0mdbn_inf\u001b[0m\u001b[0;34m.\u001b[0m\u001b[0mquery\u001b[0m\u001b[0;34m(\u001b[0m\u001b[0;34m[\u001b[0m\u001b[0;34m(\u001b[0m\u001b[0;34m'A'\u001b[0m\u001b[0;34m,\u001b[0m \u001b[0;36m1\u001b[0m\u001b[0;34m)\u001b[0m\u001b[0;34m]\u001b[0m\u001b[0;34m,\u001b[0m \u001b[0;34m{\u001b[0m\u001b[0;34m(\u001b[0m\u001b[0;34m'C'\u001b[0m\u001b[0;34m,\u001b[0m \u001b[0;36m0\u001b[0m\u001b[0;34m)\u001b[0m\u001b[0;34m:\u001b[0m\u001b[0;36m0\u001b[0m\u001b[0;34m,\u001b[0m \u001b[0;34m(\u001b[0m\u001b[0;34m'C'\u001b[0m\u001b[0;34m,\u001b[0m \u001b[0;36m1\u001b[0m\u001b[0;34m)\u001b[0m\u001b[0;34m:\u001b[0m\u001b[0;36m0\u001b[0m\u001b[0;34m}\u001b[0m\u001b[0;34m)\u001b[0m\u001b[0;34m[\u001b[0m\u001b[0;34m(\u001b[0m\u001b[0;34m'A'\u001b[0m\u001b[0;34m,\u001b[0m \u001b[0;36m1\u001b[0m\u001b[0;34m)\u001b[0m\u001b[0;34m]\u001b[0m\u001b[0;34m.\u001b[0m\u001b[0mvalues\u001b[0m\u001b[0;34m\u001b[0m\u001b[0;34m\u001b[0m\u001b[0m\n\u001b[0m",
      "\u001b[0;32m~/anaconda3/lib/python3.9/site-packages/pgmpy/inference/dbn_inference.py\u001b[0m in \u001b[0;36mquery\u001b[0;34m(self, variables, evidence, args)\u001b[0m\n\u001b[1;32m    472\u001b[0m         \"\"\"\n\u001b[1;32m    473\u001b[0m         \u001b[0;32mif\u001b[0m \u001b[0margs\u001b[0m \u001b[0;34m==\u001b[0m \u001b[0;34m\"exact\"\u001b[0m\u001b[0;34m:\u001b[0m\u001b[0;34m\u001b[0m\u001b[0;34m\u001b[0m\u001b[0m\n\u001b[0;32m--> 474\u001b[0;31m             \u001b[0;32mreturn\u001b[0m \u001b[0mself\u001b[0m\u001b[0;34m.\u001b[0m\u001b[0mbackward_inference\u001b[0m\u001b[0;34m(\u001b[0m\u001b[0mvariables\u001b[0m\u001b[0;34m,\u001b[0m \u001b[0mevidence\u001b[0m\u001b[0;34m)\u001b[0m\u001b[0;34m\u001b[0m\u001b[0;34m\u001b[0m\u001b[0m\n\u001b[0m",
      "\u001b[0;32m~/anaconda3/lib/python3.9/site-packages/pgmpy/inference/dbn_inference.py\u001b[0m in \u001b[0;36mbackward_inference\u001b[0;34m(self, variables, evidence)\u001b[0m\n\u001b[1;32m    382\u001b[0m             \u001b[0mtime_range\u001b[0m \u001b[0;34m=\u001b[0m \u001b[0mmax\u001b[0m\u001b[0;34m(\u001b[0m\u001b[0mtime_range\u001b[0m\u001b[0;34m,\u001b[0m \u001b[0mevid_time_range\u001b[0m\u001b[0;34m)\u001b[0m\u001b[0;34m\u001b[0m\u001b[0;34m\u001b[0m\u001b[0m\n\u001b[1;32m    383\u001b[0m         \u001b[0mend_bp\u001b[0m \u001b[0;34m=\u001b[0m \u001b[0mBeliefPropagation\u001b[0m\u001b[0;34m(\u001b[0m\u001b[0mself\u001b[0m\u001b[0;34m.\u001b[0m\u001b[0mstart_junction_tree\u001b[0m\u001b[0;34m)\u001b[0m\u001b[0;34m\u001b[0m\u001b[0;34m\u001b[0m\u001b[0m\n\u001b[0;32m--> 384\u001b[0;31m         \u001b[0mpotential_dict\u001b[0m \u001b[0;34m=\u001b[0m \u001b[0mself\u001b[0m\u001b[0;34m.\u001b[0m\u001b[0mforward_inference\u001b[0m\u001b[0;34m(\u001b[0m\u001b[0mvariables\u001b[0m\u001b[0;34m,\u001b[0m \u001b[0mevidence\u001b[0m\u001b[0;34m,\u001b[0m \u001b[0;34m\"potential\"\u001b[0m\u001b[0;34m)\u001b[0m\u001b[0;34m\u001b[0m\u001b[0;34m\u001b[0m\u001b[0m\n\u001b[0m\u001b[1;32m    385\u001b[0m         \u001b[0mupdate_factor\u001b[0m \u001b[0;34m=\u001b[0m \u001b[0mself\u001b[0m\u001b[0;34m.\u001b[0m\u001b[0m_shift_factor\u001b[0m\u001b[0;34m(\u001b[0m\u001b[0mpotential_dict\u001b[0m\u001b[0;34m[\u001b[0m\u001b[0mtime_range\u001b[0m\u001b[0;34m]\u001b[0m\u001b[0;34m,\u001b[0m \u001b[0;36m1\u001b[0m\u001b[0;34m)\u001b[0m\u001b[0;34m\u001b[0m\u001b[0;34m\u001b[0m\u001b[0m\n\u001b[1;32m    386\u001b[0m         \u001b[0mfactor_values\u001b[0m \u001b[0;34m=\u001b[0m \u001b[0;34m{\u001b[0m\u001b[0;34m}\u001b[0m\u001b[0;34m\u001b[0m\u001b[0;34m\u001b[0m\u001b[0m\n",
      "\u001b[0;32m~/anaconda3/lib/python3.9/site-packages/pgmpy/inference/dbn_inference.py\u001b[0m in \u001b[0;36mforward_inference\u001b[0;34m(self, variables, evidence, args)\u001b[0m\n\u001b[1;32m    318\u001b[0m             \u001b[0mpotential_dict\u001b[0m\u001b[0;34m[\u001b[0m\u001b[0mtime_slice\u001b[0m\u001b[0;34m]\u001b[0m \u001b[0;34m=\u001b[0m \u001b[0mnew_factor\u001b[0m\u001b[0;34m\u001b[0m\u001b[0;34m\u001b[0m\u001b[0m\n\u001b[1;32m    319\u001b[0m             \u001b[0mmid_bp\u001b[0m \u001b[0;34m=\u001b[0m \u001b[0mBeliefPropagation\u001b[0m\u001b[0;34m(\u001b[0m\u001b[0mself\u001b[0m\u001b[0;34m.\u001b[0m\u001b[0mone_and_half_junction_tree\u001b[0m\u001b[0;34m)\u001b[0m\u001b[0;34m\u001b[0m\u001b[0;34m\u001b[0m\u001b[0m\n\u001b[0;32m--> 320\u001b[0;31m             \u001b[0mself\u001b[0m\u001b[0;34m.\u001b[0m\u001b[0m_update_belief\u001b[0m\u001b[0;34m(\u001b[0m\u001b[0mmid_bp\u001b[0m\u001b[0;34m,\u001b[0m \u001b[0mself\u001b[0m\u001b[0;34m.\u001b[0m\u001b[0min_clique\u001b[0m\u001b[0;34m,\u001b[0m \u001b[0mnew_factor\u001b[0m\u001b[0;34m)\u001b[0m\u001b[0;34m\u001b[0m\u001b[0;34m\u001b[0m\u001b[0m\n\u001b[0m\u001b[1;32m    321\u001b[0m \u001b[0;34m\u001b[0m\u001b[0m\n\u001b[1;32m    322\u001b[0m             \u001b[0;32mif\u001b[0m \u001b[0mevidence_time\u001b[0m\u001b[0;34m:\u001b[0m\u001b[0;34m\u001b[0m\u001b[0;34m\u001b[0m\u001b[0m\n",
      "\u001b[0;32m~/anaconda3/lib/python3.9/site-packages/pgmpy/inference/dbn_inference.py\u001b[0m in \u001b[0;36m_update_belief\u001b[0;34m(self, belief_prop, clique, clique_potential, message)\u001b[0m\n\u001b[1;32m    182\u001b[0m         \u001b[0;32melse\u001b[0m\u001b[0;34m:\u001b[0m\u001b[0;34m\u001b[0m\u001b[0;34m\u001b[0m\u001b[0m\n\u001b[1;32m    183\u001b[0m             \u001b[0mnew_factor\u001b[0m \u001b[0;34m=\u001b[0m \u001b[0mold_factor\u001b[0m \u001b[0;34m*\u001b[0m \u001b[0mclique_potential\u001b[0m\u001b[0;34m\u001b[0m\u001b[0;34m\u001b[0m\u001b[0m\n\u001b[0;32m--> 184\u001b[0;31m         \u001b[0mbelief_prop\u001b[0m\u001b[0;34m.\u001b[0m\u001b[0mjunction_tree\u001b[0m\u001b[0;34m.\u001b[0m\u001b[0madd_factors\u001b[0m\u001b[0;34m(\u001b[0m\u001b[0mnew_factor\u001b[0m\u001b[0;34m)\u001b[0m\u001b[0;34m\u001b[0m\u001b[0;34m\u001b[0m\u001b[0m\n\u001b[0m\u001b[1;32m    185\u001b[0m         \u001b[0mbelief_prop\u001b[0m\u001b[0;34m.\u001b[0m\u001b[0mcalibrate\u001b[0m\u001b[0;34m(\u001b[0m\u001b[0;34m)\u001b[0m\u001b[0;34m\u001b[0m\u001b[0;34m\u001b[0m\u001b[0m\n\u001b[1;32m    186\u001b[0m \u001b[0;34m\u001b[0m\u001b[0m\n",
      "\u001b[0;32m~/anaconda3/lib/python3.9/site-packages/pgmpy/models/ClusterGraph.py\u001b[0m in \u001b[0;36madd_factors\u001b[0;34m(self, *factors)\u001b[0m\n\u001b[1;32m    156\u001b[0m             \u001b[0mnodes\u001b[0m \u001b[0;34m=\u001b[0m \u001b[0;34m[\u001b[0m\u001b[0mset\u001b[0m\u001b[0;34m(\u001b[0m\u001b[0mnode\u001b[0m\u001b[0;34m)\u001b[0m \u001b[0;32mfor\u001b[0m \u001b[0mnode\u001b[0m \u001b[0;32min\u001b[0m \u001b[0mself\u001b[0m\u001b[0;34m.\u001b[0m\u001b[0mnodes\u001b[0m\u001b[0;34m(\u001b[0m\u001b[0;34m)\u001b[0m\u001b[0;34m]\u001b[0m\u001b[0;34m\u001b[0m\u001b[0;34m\u001b[0m\u001b[0m\n\u001b[1;32m    157\u001b[0m             \u001b[0;32mif\u001b[0m \u001b[0mfactor_scope\u001b[0m \u001b[0;32mnot\u001b[0m \u001b[0;32min\u001b[0m \u001b[0mnodes\u001b[0m\u001b[0;34m:\u001b[0m\u001b[0;34m\u001b[0m\u001b[0;34m\u001b[0m\u001b[0m\n\u001b[0;32m--> 158\u001b[0;31m                 raise ValueError(\n\u001b[0m\u001b[1;32m    159\u001b[0m                     \u001b[0;34m\"Factors defined on clusters of variable not\"\u001b[0m \u001b[0;34m\"present in model\"\u001b[0m\u001b[0;34m\u001b[0m\u001b[0;34m\u001b[0m\u001b[0m\n\u001b[1;32m    160\u001b[0m                 )\n",
      "\u001b[0;31mValueError\u001b[0m: Factors defined on clusters of variable notpresent in model"
     ]
    }
   ],
   "source": [
    "dbn_inf.query([('A', 1)], {('C', 0):0, ('C', 1):0})[('A', 1)].values"
   ]
  }
 ],
 "metadata": {
  "kernelspec": {
   "display_name": "Python 3.9.7 ('base')",
   "language": "python",
   "name": "python3"
  },
  "language_info": {
   "codemirror_mode": {
    "name": "ipython",
    "version": 3
   },
   "file_extension": ".py",
   "mimetype": "text/x-python",
   "name": "python",
   "nbconvert_exporter": "python",
   "pygments_lexer": "ipython3",
   "version": "3.9.7"
  },
  "vscode": {
   "interpreter": {
    "hash": "bd3835964c07f68067958cda8891398bee6146e0c45f6e071fedf12c3d5007e3"
   }
  }
 },
 "nbformat": 4,
 "nbformat_minor": 5
}
