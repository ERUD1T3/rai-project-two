{
 "cells": [
  {
   "cell_type": "code",
   "execution_count": 33,
   "id": "530139ff",
   "metadata": {},
   "outputs": [],
   "source": [
    "import pandas as pd\n",
    "import numpy as  np\n",
    "from pgmpy.factors.discrete import TabularCPD\n",
    "from pgmpy.models import DynamicBayesianNetwork as DBN\n",
    "from pgmpy.inference import DBNInference\n",
    "import glob"
   ]
  },
  {
   "cell_type": "code",
   "execution_count": 34,
   "id": "4786c84e",
   "metadata": {},
   "outputs": [],
   "source": [
    "dbnet = DBN()\n",
    "dbnet.add_edges_from([\n",
    "    (('C', 0), ('A', 0)),\n",
    "    (('C', 0), ('A', 1)),\n",
    "    (('A', 0), ('P', 0)), \n",
    "    (('A', 0), ('P', 1)),\n",
    "    (('C', 1), ('A', 1)),\n",
    "    (('A', 1), ('P', 1))\n",
    "])"
   ]
  },
  {
   "cell_type": "code",
   "execution_count": 37,
   "id": "2869c898",
   "metadata": {},
   "outputs": [],
   "source": [
    "#Close to door or not. If dist < sensor_dist then 0.9 prob it is close\n",
    "close_cpd = TabularCPD(('C', 0), 2, [[0.9], [0.1]])\n",
    "\n",
    "#Probability a certain action is taken. For first step, if Close is True, 0 prob it walks back, 0.15 it walks forward, 0.85 it stays\n",
    "action_cpd = TabularCPD(('A', 0), 3, [[0, 0], \n",
    "                                   [0.15, 0.89], \n",
    "                                   [0.85, 0.11]],\n",
    "                    evidence=[('C', 0)],\n",
    "                    evidence_card=[2])\n",
    "\n",
    "#Prob that the robot has passed the door. If step was backwad, 0.95 chance door was passed. If forward, 0 chance. If stayed, 0.05 chance \n",
    "passed_door_cpd = TabularCPD(('P', 0), 2, [[0.95, 0, 0.05],\n",
    "                                           [0.05, 1, 0.95]],\n",
    "                        evidence=[('A', 0)],\n",
    "                        evidence_card=[3])\n",
    "\n",
    "c_i_cpd = TabularCPD(('C', 1), 2, [[0.9],\n",
    "                                   [0.1]])\n",
    "\n",
    "a_i_cpd = TabularCPD(('A', 1), 3, [[0.2, 0, 0.92, 0], \n",
    "                                   [0, 0.88, 0, 0.15], \n",
    "                                   [0.8, 0.12, 0.08, 0.85]],\n",
    "                    evidence=[('C', 0), ('C', 1)],\n",
    "                    evidence_card=[2, 2])\n",
    "\n",
    "p_i_cpd = TabularCPD(('P', 1), 2, [[0, 0.1, 0.03, 0, 0.15, 0.95, 0, 0.15, 0], \n",
    "                                   [1, 0.9, 0.97, 1, 0.85, 0.05, 1, 0.85, 1]],\n",
    "                    evidence=[('A', 0), ('A', 1)],\n",
    "                    evidence_card=[3, 3])"
   ]
  },
  {
   "cell_type": "code",
   "execution_count": 38,
   "id": "f68e6207",
   "metadata": {},
   "outputs": [],
   "source": [
    "dbnet.add_cpds(close_cpd, action_cpd, passed_door_cpd, c_i_cpd, a_i_cpd, p_i_cpd)\n",
    "\n",
    "dbnet.initialize_initial_state()"
   ]
  },
  {
   "cell_type": "code",
   "execution_count": 40,
   "id": "7e711d9d",
   "metadata": {},
   "outputs": [],
   "source": [
    "dbn_inf = DBNInference(dbnet)"
   ]
  },
  {
   "cell_type": "code",
   "execution_count": 25,
   "id": "36dc2b0f",
   "metadata": {},
   "outputs": [
    {
     "data": {
      "text/plain": [
<<<<<<< HEAD
       "<pgmpy.inference.dbn_inference.DBNInference at 0x23b1d3899d0>"
=======
       "<pgmpy.inference.dbn_inference.DBNInference at 0x1fb2ef07df0>"
>>>>>>> c7faa8016eb4123657f54b3c8cc6372d72ac5057
      ]
     },
     "execution_count": 25,
     "metadata": {},
     "output_type": "execute_result"
    }
   ],
   "source": [
    "dbn_inf"
   ]
  },
  {
   "cell_type": "code",
   "execution_count": 41,
   "id": "5d6e1992",
   "metadata": {},
   "outputs": [
    {
     "ename": "ValueError",
     "evalue": "Factors defined on clusters of variable notpresent in model",
     "output_type": "error",
     "traceback": [
      "\u001b[1;31m---------------------------------------------------------------------------\u001b[0m",
      "\u001b[1;31mValueError\u001b[0m                                Traceback (most recent call last)",
      "Input \u001b[1;32mIn [41]\u001b[0m, in \u001b[0;36m<cell line: 1>\u001b[1;34m()\u001b[0m\n\u001b[1;32m----> 1\u001b[0m \u001b[43mdbn_inf\u001b[49m\u001b[38;5;241;43m.\u001b[39;49m\u001b[43mforward_inference\u001b[49m\u001b[43m(\u001b[49m\u001b[43m[\u001b[49m\u001b[43m(\u001b[49m\u001b[38;5;124;43m'\u001b[39;49m\u001b[38;5;124;43mC\u001b[39;49m\u001b[38;5;124;43m'\u001b[39;49m\u001b[43m,\u001b[49m\u001b[43m \u001b[49m\u001b[38;5;241;43m0\u001b[39;49m\u001b[43m)\u001b[49m\u001b[43m]\u001b[49m\u001b[43m,\u001b[49m\u001b[43m \u001b[49m\u001b[43m{\u001b[49m\u001b[43m(\u001b[49m\u001b[38;5;124;43m'\u001b[39;49m\u001b[38;5;124;43mA\u001b[39;49m\u001b[38;5;124;43m'\u001b[39;49m\u001b[43m,\u001b[49m\u001b[43m \u001b[49m\u001b[38;5;241;43m0\u001b[39;49m\u001b[43m)\u001b[49m\u001b[43m:\u001b[49m\u001b[38;5;241;43m0\u001b[39;49m\u001b[43m,\u001b[49m\u001b[43m \u001b[49m\u001b[43m(\u001b[49m\u001b[38;5;124;43m'\u001b[39;49m\u001b[38;5;124;43mA\u001b[39;49m\u001b[38;5;124;43m'\u001b[39;49m\u001b[43m,\u001b[49m\u001b[43m \u001b[49m\u001b[38;5;241;43m1\u001b[39;49m\u001b[43m)\u001b[49m\u001b[43m:\u001b[49m\u001b[38;5;241;43m0\u001b[39;49m\u001b[43m}\u001b[49m\u001b[43m)\u001b[49m[\u001b[38;5;124m'\u001b[39m\u001b[38;5;124mC\u001b[39m\u001b[38;5;124m'\u001b[39m, \u001b[38;5;241m0\u001b[39m]\u001b[38;5;241m.\u001b[39mvalues\n",
      "File \u001b[1;32m~\\anaconda3\\envs\\rai\\lib\\site-packages\\pgmpy\\inference\\dbn_inference.py:320\u001b[0m, in \u001b[0;36mDBNInference.forward_inference\u001b[1;34m(self, variables, evidence, args)\u001b[0m\n\u001b[0;32m    318\u001b[0m potential_dict[time_slice] \u001b[38;5;241m=\u001b[39m new_factor\n\u001b[0;32m    319\u001b[0m mid_bp \u001b[38;5;241m=\u001b[39m BeliefPropagation(\u001b[38;5;28mself\u001b[39m\u001b[38;5;241m.\u001b[39mone_and_half_junction_tree)\n\u001b[1;32m--> 320\u001b[0m \u001b[38;5;28;43mself\u001b[39;49m\u001b[38;5;241;43m.\u001b[39;49m\u001b[43m_update_belief\u001b[49m\u001b[43m(\u001b[49m\u001b[43mmid_bp\u001b[49m\u001b[43m,\u001b[49m\u001b[43m \u001b[49m\u001b[38;5;28;43mself\u001b[39;49m\u001b[38;5;241;43m.\u001b[39;49m\u001b[43min_clique\u001b[49m\u001b[43m,\u001b[49m\u001b[43m \u001b[49m\u001b[43mnew_factor\u001b[49m\u001b[43m)\u001b[49m\n\u001b[0;32m    322\u001b[0m \u001b[38;5;28;01mif\u001b[39;00m evidence_time:\n\u001b[0;32m    323\u001b[0m     interface_nodes_dict \u001b[38;5;241m=\u001b[39m {\n\u001b[0;32m    324\u001b[0m         (k[\u001b[38;5;241m0\u001b[39m], \u001b[38;5;241m0\u001b[39m): v\n\u001b[0;32m    325\u001b[0m         \u001b[38;5;28;01mfor\u001b[39;00m k, v \u001b[38;5;129;01min\u001b[39;00m evidence_time\u001b[38;5;241m.\u001b[39mitems()\n\u001b[0;32m    326\u001b[0m         \u001b[38;5;28;01mif\u001b[39;00m k \u001b[38;5;129;01min\u001b[39;00m \u001b[38;5;28mself\u001b[39m\u001b[38;5;241m.\u001b[39minterface_nodes_1\n\u001b[0;32m    327\u001b[0m     }\n",
      "File \u001b[1;32m~\\anaconda3\\envs\\rai\\lib\\site-packages\\pgmpy\\inference\\dbn_inference.py:184\u001b[0m, in \u001b[0;36mDBNInference._update_belief\u001b[1;34m(self, belief_prop, clique, clique_potential, message)\u001b[0m\n\u001b[0;32m    182\u001b[0m \u001b[38;5;28;01melse\u001b[39;00m:\n\u001b[0;32m    183\u001b[0m     new_factor \u001b[38;5;241m=\u001b[39m old_factor \u001b[38;5;241m*\u001b[39m clique_potential\n\u001b[1;32m--> 184\u001b[0m \u001b[43mbelief_prop\u001b[49m\u001b[38;5;241;43m.\u001b[39;49m\u001b[43mjunction_tree\u001b[49m\u001b[38;5;241;43m.\u001b[39;49m\u001b[43madd_factors\u001b[49m\u001b[43m(\u001b[49m\u001b[43mnew_factor\u001b[49m\u001b[43m)\u001b[49m\n\u001b[0;32m    185\u001b[0m belief_prop\u001b[38;5;241m.\u001b[39mcalibrate()\n",
      "File \u001b[1;32m~\\anaconda3\\envs\\rai\\lib\\site-packages\\pgmpy\\models\\ClusterGraph.py:158\u001b[0m, in \u001b[0;36mClusterGraph.add_factors\u001b[1;34m(self, *factors)\u001b[0m\n\u001b[0;32m    156\u001b[0m nodes \u001b[38;5;241m=\u001b[39m [\u001b[38;5;28mset\u001b[39m(node) \u001b[38;5;28;01mfor\u001b[39;00m node \u001b[38;5;129;01min\u001b[39;00m \u001b[38;5;28mself\u001b[39m\u001b[38;5;241m.\u001b[39mnodes()]\n\u001b[0;32m    157\u001b[0m \u001b[38;5;28;01mif\u001b[39;00m factor_scope \u001b[38;5;129;01mnot\u001b[39;00m \u001b[38;5;129;01min\u001b[39;00m nodes:\n\u001b[1;32m--> 158\u001b[0m     \u001b[38;5;28;01mraise\u001b[39;00m \u001b[38;5;167;01mValueError\u001b[39;00m(\n\u001b[0;32m    159\u001b[0m         \u001b[38;5;124m\"\u001b[39m\u001b[38;5;124mFactors defined on clusters of variable not\u001b[39m\u001b[38;5;124m\"\u001b[39m \u001b[38;5;124m\"\u001b[39m\u001b[38;5;124mpresent in model\u001b[39m\u001b[38;5;124m\"\u001b[39m\n\u001b[0;32m    160\u001b[0m     )\n\u001b[0;32m    162\u001b[0m \u001b[38;5;28mself\u001b[39m\u001b[38;5;241m.\u001b[39mfactors\u001b[38;5;241m.\u001b[39mappend(factor)\n",
      "\u001b[1;31mValueError\u001b[0m: Factors defined on clusters of variable notpresent in model"
     ]
    }
   ],
   "source": [
    "dbn_inf.forward_inference([('C', 0)], {('A', 0):0, ('A', 1):0})['C', 0].values"
   ]
  },
  {
   "cell_type": "code",
   "execution_count": 8,
   "id": "1a9d289a",
   "metadata": {},
   "outputs": [
    {
     "data": {
      "text/html": [
       "<div>\n",
       "<style scoped>\n",
       "    .dataframe tbody tr th:only-of-type {\n",
       "        vertical-align: middle;\n",
       "    }\n",
       "\n",
       "    .dataframe tbody tr th {\n",
       "        vertical-align: top;\n",
       "    }\n",
       "\n",
       "    .dataframe thead th {\n",
       "        text-align: right;\n",
       "    }\n",
       "</style>\n",
       "<table border=\"1\" class=\"dataframe\">\n",
       "  <thead>\n",
       "    <tr style=\"text-align: right;\">\n",
       "      <th></th>\n",
       "      <th>z</th>\n",
       "      <th>a</th>\n",
       "      <th>d</th>\n",
       "    </tr>\n",
       "  </thead>\n",
       "  <tbody>\n",
       "    <tr>\n",
       "      <th>0</th>\n",
       "      <td>1</td>\n",
       "      <td>0</td>\n",
       "      <td>0</td>\n",
       "    </tr>\n",
       "    <tr>\n",
       "      <th>1</th>\n",
       "      <td>0</td>\n",
       "      <td>0</td>\n",
       "      <td>0</td>\n",
       "    </tr>\n",
       "    <tr>\n",
       "      <th>2</th>\n",
       "      <td>1</td>\n",
       "      <td>0</td>\n",
       "      <td>0</td>\n",
       "    </tr>\n",
       "    <tr>\n",
       "      <th>3</th>\n",
       "      <td>0</td>\n",
       "      <td>0</td>\n",
       "      <td>0</td>\n",
       "    </tr>\n",
       "    <tr>\n",
       "      <th>4</th>\n",
       "      <td>0</td>\n",
       "      <td>0</td>\n",
       "      <td>0</td>\n",
       "    </tr>\n",
       "  </tbody>\n",
       "</table>\n",
       "</div>"
      ],
      "text/plain": [
       "   z  a  d\n",
       "0  1  0  0\n",
       "1  0  0  0\n",
       "2  1  0  0\n",
       "3  0  0  0\n",
       "4  0  0  0"
      ]
     },
     "execution_count": 8,
     "metadata": {},
     "output_type": "execute_result"
    }
   ],
   "source": [
    "readings = glob.glob(\"../../data/*.csv\")\n",
    "data = pd.read_csv(readings[0], usecols=[\"z\", \"a\", \"d\"])\n",
    "\n",
    "# 1:Close to wall, 0:Far from wall\n",
    "data[\"z\"] = np.where(data[\"z\"] < 0.4, int(1), int(0))\n",
    "\n",
    "# 0: Backward, 1:Forward, 2:Stay\n",
    "data.loc[data[\"a\"]==\"backward\", \"a\"] = int(0)\n",
    "data.loc[data[\"a\"]==\"forward\", \"a\"] = int(1)\n",
    "data.loc[data[\"a\"]==\"stay\", \"a\"] = int(2)\n",
    "\n",
    "data.loc[data[\"d\"]==False, \"d\"] = int(0)\n",
    "data.loc[data[\"d\"]==True, \"d\"] = int(1)\n",
    "\n",
    "data.head()"
   ]
  },
  {
   "cell_type": "code",
   "execution_count": 9,
   "id": "7968a599",
   "metadata": {},
   "outputs": [
    {
     "name": "stdout",
     "output_type": "stream",
     "text": [
      "(1, 456)\n",
      "(1000, 456)\n",
      "(1, 456)\n",
      "   (C, 0)  (A, 0)  (P, 0)\n",
      "0       0       0       0\n"
     ]
    }
   ],
   "source": [
    "colnames = []\n",
    "\n",
    "timesteps = len(data)\n",
    "\n",
    "for t in range(timesteps):\n",
    "    colnames.extend([('C', t), ('A', t), ('P', t)])\n",
    "    \n",
    "flat = data.to_numpy().flatten()\n",
    "flat = np.expand_dims(flat, axis=0)\n",
    "\n",
    "df = pd.DataFrame(flat, columns=colnames)\n",
    "\n",
    "data2 = np.random.randint(low=0, high=3, size=(1000, 152*3))\n",
    "df2 = pd.DataFrame(data2, columns=colnames)\n",
    "# print(df[[('C', 0)]])\n",
    "# print(df2[[('C', 0)]])\n",
    "\n",
    "data3 = []\n",
    "for x in range(152):\n",
    "    data3.append(np.random.randint(low=0, high=1))\n",
    "    data3.append(np.random.randint(low=0, high=1))\n",
    "    data3.append(np.random.randint(low=0, high=1))\n",
    "\n",
    "data3 = np.expand_dims(data3, axis=0)\n",
    "df3 = pd.DataFrame(data3, columns=colnames)\n",
    "print(flat.shape)\n",
    "print(data2.shape)\n",
    "print(data3.shape)\n",
    "\n",
    "print(df3[[('C', 0), ('A', 0), ('P', 0)]])\n",
    "\n",
    "dbnet.fit(df2)"
   ]
  },
  {
   "cell_type": "code",
   "execution_count": 10,
   "id": "e0cbc4ea",
   "metadata": {},
   "outputs": [
    {
     "data": {
      "text/html": [
       "<div>\n",
       "<style scoped>\n",
       "    .dataframe tbody tr th:only-of-type {\n",
       "        vertical-align: middle;\n",
       "    }\n",
       "\n",
       "    .dataframe tbody tr th {\n",
       "        vertical-align: top;\n",
       "    }\n",
       "\n",
       "    .dataframe thead th {\n",
       "        text-align: right;\n",
       "    }\n",
       "</style>\n",
       "<table border=\"1\" class=\"dataframe\">\n",
       "  <thead>\n",
       "    <tr style=\"text-align: right;\">\n",
       "      <th></th>\n",
       "      <th>(C, 0)</th>\n",
       "      <th>(A, 0)</th>\n",
       "      <th>(P, 0)</th>\n",
       "      <th>(C, 1)</th>\n",
       "      <th>(A, 1)</th>\n",
       "      <th>(P, 1)</th>\n",
       "      <th>(C, 2)</th>\n",
       "      <th>(A, 2)</th>\n",
       "      <th>(P, 2)</th>\n",
       "      <th>(C, 3)</th>\n",
       "      <th>...</th>\n",
       "      <th>(P, 148)</th>\n",
       "      <th>(C, 149)</th>\n",
       "      <th>(A, 149)</th>\n",
       "      <th>(P, 149)</th>\n",
       "      <th>(C, 150)</th>\n",
       "      <th>(A, 150)</th>\n",
       "      <th>(P, 150)</th>\n",
       "      <th>(C, 151)</th>\n",
       "      <th>(A, 151)</th>\n",
       "      <th>(P, 151)</th>\n",
       "    </tr>\n",
       "  </thead>\n",
       "  <tbody>\n",
       "    <tr>\n",
       "      <th>0</th>\n",
       "      <td>1</td>\n",
       "      <td>0</td>\n",
       "      <td>0</td>\n",
       "      <td>0</td>\n",
       "      <td>0</td>\n",
       "      <td>0</td>\n",
       "      <td>1</td>\n",
       "      <td>0</td>\n",
       "      <td>0</td>\n",
       "      <td>0</td>\n",
       "      <td>...</td>\n",
       "      <td>0</td>\n",
       "      <td>0</td>\n",
       "      <td>2</td>\n",
       "      <td>0</td>\n",
       "      <td>1</td>\n",
       "      <td>2</td>\n",
       "      <td>0</td>\n",
       "      <td>0</td>\n",
       "      <td>2</td>\n",
       "      <td>0</td>\n",
       "    </tr>\n",
       "  </tbody>\n",
       "</table>\n",
       "<p>1 rows × 456 columns</p>\n",
       "</div>"
      ],
      "text/plain": [
       "  (C, 0) (A, 0) (P, 0) (C, 1) (A, 1) (P, 1) (C, 2) (A, 2) (P, 2) (C, 3)  ...  \\\n",
       "0      1      0      0      0      0      0      1      0      0      0  ...   \n",
       "\n",
       "  (P, 148) (C, 149) (A, 149) (P, 149) (C, 150) (A, 150) (P, 150) (C, 151)  \\\n",
       "0        0        0        2        0        1        2        0        0   \n",
       "\n",
       "  (A, 151) (P, 151)  \n",
       "0        2        0  \n",
       "\n",
       "[1 rows x 456 columns]"
      ]
     },
     "execution_count": 10,
     "metadata": {},
     "output_type": "execute_result"
    }
   ],
   "source": [
    "df.head()"
   ]
  },
  {
   "cell_type": "code",
   "execution_count": 11,
   "id": "fa3e101d",
   "metadata": {},
   "outputs": [
    {
     "data": {
      "text/html": [
       "<div>\n",
       "<style scoped>\n",
       "    .dataframe tbody tr th:only-of-type {\n",
       "        vertical-align: middle;\n",
       "    }\n",
       "\n",
       "    .dataframe tbody tr th {\n",
       "        vertical-align: top;\n",
       "    }\n",
       "\n",
       "    .dataframe thead th {\n",
       "        text-align: right;\n",
       "    }\n",
       "</style>\n",
       "<table border=\"1\" class=\"dataframe\">\n",
       "  <thead>\n",
       "    <tr style=\"text-align: right;\">\n",
       "      <th></th>\n",
       "      <th>(C, 0)</th>\n",
       "      <th>(A, 0)</th>\n",
       "      <th>(P, 0)</th>\n",
       "      <th>(C, 1)</th>\n",
       "      <th>(A, 1)</th>\n",
       "      <th>(P, 1)</th>\n",
       "      <th>(C, 2)</th>\n",
       "      <th>(A, 2)</th>\n",
       "      <th>(P, 2)</th>\n",
       "      <th>(C, 3)</th>\n",
       "      <th>...</th>\n",
       "      <th>(P, 148)</th>\n",
       "      <th>(C, 149)</th>\n",
       "      <th>(A, 149)</th>\n",
       "      <th>(P, 149)</th>\n",
       "      <th>(C, 150)</th>\n",
       "      <th>(A, 150)</th>\n",
       "      <th>(P, 150)</th>\n",
       "      <th>(C, 151)</th>\n",
       "      <th>(A, 151)</th>\n",
       "      <th>(P, 151)</th>\n",
       "    </tr>\n",
       "  </thead>\n",
       "  <tbody>\n",
       "    <tr>\n",
       "      <th>0</th>\n",
       "      <td>2</td>\n",
       "      <td>0</td>\n",
       "      <td>2</td>\n",
       "      <td>0</td>\n",
       "      <td>0</td>\n",
       "      <td>2</td>\n",
       "      <td>1</td>\n",
       "      <td>0</td>\n",
       "      <td>0</td>\n",
       "      <td>2</td>\n",
       "      <td>...</td>\n",
       "      <td>0</td>\n",
       "      <td>0</td>\n",
       "      <td>1</td>\n",
       "      <td>2</td>\n",
       "      <td>2</td>\n",
       "      <td>0</td>\n",
       "      <td>1</td>\n",
       "      <td>1</td>\n",
       "      <td>0</td>\n",
       "      <td>2</td>\n",
       "    </tr>\n",
       "    <tr>\n",
       "      <th>1</th>\n",
       "      <td>2</td>\n",
       "      <td>0</td>\n",
       "      <td>2</td>\n",
       "      <td>1</td>\n",
       "      <td>2</td>\n",
       "      <td>2</td>\n",
       "      <td>1</td>\n",
       "      <td>2</td>\n",
       "      <td>1</td>\n",
       "      <td>1</td>\n",
       "      <td>...</td>\n",
       "      <td>0</td>\n",
       "      <td>2</td>\n",
       "      <td>0</td>\n",
       "      <td>1</td>\n",
       "      <td>2</td>\n",
       "      <td>1</td>\n",
       "      <td>0</td>\n",
       "      <td>1</td>\n",
       "      <td>0</td>\n",
       "      <td>1</td>\n",
       "    </tr>\n",
       "    <tr>\n",
       "      <th>2</th>\n",
       "      <td>0</td>\n",
       "      <td>1</td>\n",
       "      <td>2</td>\n",
       "      <td>1</td>\n",
       "      <td>1</td>\n",
       "      <td>2</td>\n",
       "      <td>0</td>\n",
       "      <td>1</td>\n",
       "      <td>0</td>\n",
       "      <td>1</td>\n",
       "      <td>...</td>\n",
       "      <td>0</td>\n",
       "      <td>0</td>\n",
       "      <td>0</td>\n",
       "      <td>0</td>\n",
       "      <td>1</td>\n",
       "      <td>0</td>\n",
       "      <td>1</td>\n",
       "      <td>1</td>\n",
       "      <td>0</td>\n",
       "      <td>1</td>\n",
       "    </tr>\n",
       "    <tr>\n",
       "      <th>3</th>\n",
       "      <td>0</td>\n",
       "      <td>0</td>\n",
       "      <td>1</td>\n",
       "      <td>1</td>\n",
       "      <td>2</td>\n",
       "      <td>1</td>\n",
       "      <td>0</td>\n",
       "      <td>1</td>\n",
       "      <td>0</td>\n",
       "      <td>0</td>\n",
       "      <td>...</td>\n",
       "      <td>2</td>\n",
       "      <td>2</td>\n",
       "      <td>1</td>\n",
       "      <td>1</td>\n",
       "      <td>0</td>\n",
       "      <td>2</td>\n",
       "      <td>2</td>\n",
       "      <td>2</td>\n",
       "      <td>1</td>\n",
       "      <td>1</td>\n",
       "    </tr>\n",
       "    <tr>\n",
       "      <th>4</th>\n",
       "      <td>1</td>\n",
       "      <td>1</td>\n",
       "      <td>1</td>\n",
       "      <td>2</td>\n",
       "      <td>2</td>\n",
       "      <td>0</td>\n",
       "      <td>0</td>\n",
       "      <td>1</td>\n",
       "      <td>0</td>\n",
       "      <td>1</td>\n",
       "      <td>...</td>\n",
       "      <td>1</td>\n",
       "      <td>1</td>\n",
       "      <td>1</td>\n",
       "      <td>0</td>\n",
       "      <td>2</td>\n",
       "      <td>1</td>\n",
       "      <td>2</td>\n",
       "      <td>2</td>\n",
       "      <td>2</td>\n",
       "      <td>1</td>\n",
       "    </tr>\n",
       "  </tbody>\n",
       "</table>\n",
       "<p>5 rows × 456 columns</p>\n",
       "</div>"
      ],
      "text/plain": [
       "   (C, 0)  (A, 0)  (P, 0)  (C, 1)  (A, 1)  (P, 1)  (C, 2)  (A, 2)  (P, 2)  \\\n",
       "0       2       0       2       0       0       2       1       0       0   \n",
       "1       2       0       2       1       2       2       1       2       1   \n",
       "2       0       1       2       1       1       2       0       1       0   \n",
       "3       0       0       1       1       2       1       0       1       0   \n",
       "4       1       1       1       2       2       0       0       1       0   \n",
       "\n",
       "   (C, 3)  ...  (P, 148)  (C, 149)  (A, 149)  (P, 149)  (C, 150)  (A, 150)  \\\n",
       "0       2  ...         0         0         1         2         2         0   \n",
       "1       1  ...         0         2         0         1         2         1   \n",
       "2       1  ...         0         0         0         0         1         0   \n",
       "3       0  ...         2         2         1         1         0         2   \n",
       "4       1  ...         1         1         1         0         2         1   \n",
       "\n",
       "   (P, 150)  (C, 151)  (A, 151)  (P, 151)  \n",
       "0         1         1         0         2  \n",
       "1         0         1         0         1  \n",
       "2         1         1         0         1  \n",
       "3         2         2         1         1  \n",
       "4         2         2         2         1  \n",
       "\n",
       "[5 rows x 456 columns]"
      ]
     },
     "execution_count": 11,
     "metadata": {},
     "output_type": "execute_result"
    }
   ],
   "source": [
    "df2.head()"
   ]
  },
  {
   "cell_type": "code",
   "execution_count": 12,
   "id": "4f6d1b26",
   "metadata": {},
   "outputs": [
    {
     "data": {
      "text/html": [
       "<div>\n",
       "<style scoped>\n",
       "    .dataframe tbody tr th:only-of-type {\n",
       "        vertical-align: middle;\n",
       "    }\n",
       "\n",
       "    .dataframe tbody tr th {\n",
       "        vertical-align: top;\n",
       "    }\n",
       "\n",
       "    .dataframe thead th {\n",
       "        text-align: right;\n",
       "    }\n",
       "</style>\n",
       "<table border=\"1\" class=\"dataframe\">\n",
       "  <thead>\n",
       "    <tr style=\"text-align: right;\">\n",
       "      <th></th>\n",
       "      <th>(C, 0)</th>\n",
       "      <th>(A, 0)</th>\n",
       "      <th>(P, 0)</th>\n",
       "      <th>(C, 1)</th>\n",
       "      <th>(A, 1)</th>\n",
       "      <th>(P, 1)</th>\n",
       "      <th>(C, 2)</th>\n",
       "      <th>(A, 2)</th>\n",
       "      <th>(P, 2)</th>\n",
       "      <th>(C, 3)</th>\n",
       "      <th>...</th>\n",
       "      <th>(P, 148)</th>\n",
       "      <th>(C, 149)</th>\n",
       "      <th>(A, 149)</th>\n",
       "      <th>(P, 149)</th>\n",
       "      <th>(C, 150)</th>\n",
       "      <th>(A, 150)</th>\n",
       "      <th>(P, 150)</th>\n",
       "      <th>(C, 151)</th>\n",
       "      <th>(A, 151)</th>\n",
       "      <th>(P, 151)</th>\n",
       "    </tr>\n",
       "  </thead>\n",
       "  <tbody>\n",
       "    <tr>\n",
       "      <th>0</th>\n",
       "      <td>0</td>\n",
       "      <td>0</td>\n",
       "      <td>0</td>\n",
       "      <td>0</td>\n",
       "      <td>0</td>\n",
       "      <td>0</td>\n",
       "      <td>0</td>\n",
       "      <td>0</td>\n",
       "      <td>0</td>\n",
       "      <td>0</td>\n",
       "      <td>...</td>\n",
       "      <td>0</td>\n",
       "      <td>0</td>\n",
       "      <td>0</td>\n",
       "      <td>0</td>\n",
       "      <td>0</td>\n",
       "      <td>0</td>\n",
       "      <td>0</td>\n",
       "      <td>0</td>\n",
       "      <td>0</td>\n",
       "      <td>0</td>\n",
       "    </tr>\n",
       "  </tbody>\n",
       "</table>\n",
       "<p>1 rows × 456 columns</p>\n",
       "</div>"
      ],
      "text/plain": [
       "   (C, 0)  (A, 0)  (P, 0)  (C, 1)  (A, 1)  (P, 1)  (C, 2)  (A, 2)  (P, 2)  \\\n",
       "0       0       0       0       0       0       0       0       0       0   \n",
       "\n",
       "   (C, 3)  ...  (P, 148)  (C, 149)  (A, 149)  (P, 149)  (C, 150)  (A, 150)  \\\n",
       "0       0  ...         0         0         0         0         0         0   \n",
       "\n",
       "   (P, 150)  (C, 151)  (A, 151)  (P, 151)  \n",
       "0         0         0         0         0  \n",
       "\n",
       "[1 rows x 456 columns]"
      ]
     },
     "execution_count": 12,
     "metadata": {},
     "output_type": "execute_result"
    }
   ],
   "source": [
    "df3.head()"
   ]
  },
  {
   "cell_type": "code",
   "execution_count": 13,
   "id": "f62ae429",
   "metadata": {},
   "outputs": [
    {
     "data": {
      "text/plain": [
       "array([[0.  , 0.  ],\n",
       "       [0.15, 0.89],\n",
       "       [0.85, 0.11]])"
      ]
     },
     "execution_count": 13,
     "metadata": {},
     "output_type": "execute_result"
    }
   ],
   "source": [
    "dbnet.get_cpds()[2].get_values()"
   ]
  },
  {
   "cell_type": "code",
   "execution_count": 14,
   "id": "a41a873b",
   "metadata": {},
   "outputs": [
    {
     "data": {
      "text/plain": [
       "[<TabularCPD representing P(('C', 0):2) at 0x23b1d3a07f0>,\n",
       " <TabularCPD representing P(('P', 0):2 | ('A', 0):3) at 0x23b1d3a0850>,\n",
       " <TabularCPD representing P(('A', 0):3 | ('C', 0):2) at 0x23b1d3a0790>,\n",
       " <TabularCPD representing P(('C', 1):2) at 0x23b1d3a0880>,\n",
       " <TabularCPD representing P(('P', 1):2 | ('A', 0):3, ('A', 1):3) at 0x23b1d3a07c0>,\n",
       " <TabularCPD representing P(('A', 1):3 | ('C', 0):2, ('C', 1):2) at 0x23b1d3a0820>]"
      ]
     },
     "execution_count": 14,
     "metadata": {},
     "output_type": "execute_result"
    }
   ],
   "source": [
    "dbnet.get_cpds()"
   ]
  },
  {
   "cell_type": "code",
   "execution_count": 15,
   "id": "4006b955",
   "metadata": {},
   "outputs": [],
   "source": [
    "dbnet.initialize_initial_state()\n",
    "dbn_inf = DBNInference(dbnet)"
   ]
  },
  {
   "cell_type": "code",
   "execution_count": 16,
   "id": "61157ee5",
   "metadata": {},
   "outputs": [
    {
     "name": "stderr",
     "output_type": "stream",
     "text": [
      "C:\\Users\\itchi\\anaconda3\\envs\\rai\\lib\\site-packages\\pgmpy\\factors\\discrete\\DiscreteFactor.py:787: RuntimeWarning: invalid value encountered in divide\n",
      "  phi.values = phi.values / phi1.values\n",
      "C:\\Users\\itchi\\anaconda3\\envs\\rai\\lib\\site-packages\\pgmpy\\factors\\discrete\\DiscreteFactor.py:478: RuntimeWarning: invalid value encountered in divide\n",
      "  phi.values = phi.values / phi.values.sum()\n"
     ]
    },
    {
     "ename": "ValueError",
     "evalue": "Factors defined on clusters of variable notpresent in model",
     "output_type": "error",
     "traceback": [
      "\u001b[1;31m---------------------------------------------------------------------------\u001b[0m",
      "\u001b[1;31mValueError\u001b[0m                                Traceback (most recent call last)",
      "Input \u001b[1;32mIn [16]\u001b[0m, in \u001b[0;36m<cell line: 1>\u001b[1;34m()\u001b[0m\n\u001b[1;32m----> 1\u001b[0m \u001b[43mdbn_inf\u001b[49m\u001b[38;5;241;43m.\u001b[39;49m\u001b[43mquery\u001b[49m\u001b[43m(\u001b[49m\u001b[43m[\u001b[49m\u001b[43m(\u001b[49m\u001b[38;5;124;43m'\u001b[39;49m\u001b[38;5;124;43mP\u001b[39;49m\u001b[38;5;124;43m'\u001b[39;49m\u001b[43m,\u001b[49m\u001b[38;5;241;43m0\u001b[39;49m\u001b[43m)\u001b[49m\u001b[43m]\u001b[49m\u001b[43m,\u001b[49m\u001b[43m \u001b[49m\u001b[43m{\u001b[49m\u001b[43m(\u001b[49m\u001b[38;5;124;43m'\u001b[39;49m\u001b[38;5;124;43mC\u001b[39;49m\u001b[38;5;124;43m'\u001b[39;49m\u001b[43m,\u001b[49m\u001b[43m \u001b[49m\u001b[38;5;241;43m1\u001b[39;49m\u001b[43m)\u001b[49m\u001b[43m:\u001b[49m\u001b[38;5;241;43m0\u001b[39;49m\u001b[43m,\u001b[49m\u001b[43m \u001b[49m\u001b[43m(\u001b[49m\u001b[38;5;124;43m'\u001b[39;49m\u001b[38;5;124;43mA\u001b[39;49m\u001b[38;5;124;43m'\u001b[39;49m\u001b[43m,\u001b[49m\u001b[43m \u001b[49m\u001b[38;5;241;43m0\u001b[39;49m\u001b[43m)\u001b[49m\u001b[43m:\u001b[49m\u001b[38;5;241;43m0\u001b[39;49m\u001b[43m}\u001b[49m\u001b[43m)\u001b[49m\n",
      "File \u001b[1;32m~\\anaconda3\\envs\\rai\\lib\\site-packages\\pgmpy\\inference\\dbn_inference.py:474\u001b[0m, in \u001b[0;36mDBNInference.query\u001b[1;34m(self, variables, evidence, args)\u001b[0m\n\u001b[0;32m    434\u001b[0m \u001b[38;5;124;03m\"\"\"\u001b[39;00m\n\u001b[0;32m    435\u001b[0m \u001b[38;5;124;03mQuery method for Dynamic Bayesian Network using Interface Algorithm.\u001b[39;00m\n\u001b[0;32m    436\u001b[0m \n\u001b[1;32m   (...)\u001b[0m\n\u001b[0;32m    471\u001b[0m \u001b[38;5;124;03marray([0.66594382, 0.33405618])\u001b[39;00m\n\u001b[0;32m    472\u001b[0m \u001b[38;5;124;03m\"\"\"\u001b[39;00m\n\u001b[0;32m    473\u001b[0m \u001b[38;5;28;01mif\u001b[39;00m args \u001b[38;5;241m==\u001b[39m \u001b[38;5;124m\"\u001b[39m\u001b[38;5;124mexact\u001b[39m\u001b[38;5;124m\"\u001b[39m:\n\u001b[1;32m--> 474\u001b[0m     \u001b[38;5;28;01mreturn\u001b[39;00m \u001b[38;5;28;43mself\u001b[39;49m\u001b[38;5;241;43m.\u001b[39;49m\u001b[43mbackward_inference\u001b[49m\u001b[43m(\u001b[49m\u001b[43mvariables\u001b[49m\u001b[43m,\u001b[49m\u001b[43m \u001b[49m\u001b[43mevidence\u001b[49m\u001b[43m)\u001b[49m\n",
      "File \u001b[1;32m~\\anaconda3\\envs\\rai\\lib\\site-packages\\pgmpy\\inference\\dbn_inference.py:384\u001b[0m, in \u001b[0;36mDBNInference.backward_inference\u001b[1;34m(self, variables, evidence)\u001b[0m\n\u001b[0;32m    382\u001b[0m     time_range \u001b[38;5;241m=\u001b[39m \u001b[38;5;28mmax\u001b[39m(time_range, evid_time_range)\n\u001b[0;32m    383\u001b[0m end_bp \u001b[38;5;241m=\u001b[39m BeliefPropagation(\u001b[38;5;28mself\u001b[39m\u001b[38;5;241m.\u001b[39mstart_junction_tree)\n\u001b[1;32m--> 384\u001b[0m potential_dict \u001b[38;5;241m=\u001b[39m \u001b[38;5;28;43mself\u001b[39;49m\u001b[38;5;241;43m.\u001b[39;49m\u001b[43mforward_inference\u001b[49m\u001b[43m(\u001b[49m\u001b[43mvariables\u001b[49m\u001b[43m,\u001b[49m\u001b[43m \u001b[49m\u001b[43mevidence\u001b[49m\u001b[43m,\u001b[49m\u001b[43m \u001b[49m\u001b[38;5;124;43m\"\u001b[39;49m\u001b[38;5;124;43mpotential\u001b[39;49m\u001b[38;5;124;43m\"\u001b[39;49m\u001b[43m)\u001b[49m\n\u001b[0;32m    385\u001b[0m update_factor \u001b[38;5;241m=\u001b[39m \u001b[38;5;28mself\u001b[39m\u001b[38;5;241m.\u001b[39m_shift_factor(potential_dict[time_range], \u001b[38;5;241m1\u001b[39m)\n\u001b[0;32m    386\u001b[0m factor_values \u001b[38;5;241m=\u001b[39m {}\n",
      "File \u001b[1;32m~\\anaconda3\\envs\\rai\\lib\\site-packages\\pgmpy\\inference\\dbn_inference.py:320\u001b[0m, in \u001b[0;36mDBNInference.forward_inference\u001b[1;34m(self, variables, evidence, args)\u001b[0m\n\u001b[0;32m    318\u001b[0m potential_dict[time_slice] \u001b[38;5;241m=\u001b[39m new_factor\n\u001b[0;32m    319\u001b[0m mid_bp \u001b[38;5;241m=\u001b[39m BeliefPropagation(\u001b[38;5;28mself\u001b[39m\u001b[38;5;241m.\u001b[39mone_and_half_junction_tree)\n\u001b[1;32m--> 320\u001b[0m \u001b[38;5;28;43mself\u001b[39;49m\u001b[38;5;241;43m.\u001b[39;49m\u001b[43m_update_belief\u001b[49m\u001b[43m(\u001b[49m\u001b[43mmid_bp\u001b[49m\u001b[43m,\u001b[49m\u001b[43m \u001b[49m\u001b[38;5;28;43mself\u001b[39;49m\u001b[38;5;241;43m.\u001b[39;49m\u001b[43min_clique\u001b[49m\u001b[43m,\u001b[49m\u001b[43m \u001b[49m\u001b[43mnew_factor\u001b[49m\u001b[43m)\u001b[49m\n\u001b[0;32m    322\u001b[0m \u001b[38;5;28;01mif\u001b[39;00m evidence_time:\n\u001b[0;32m    323\u001b[0m     interface_nodes_dict \u001b[38;5;241m=\u001b[39m {\n\u001b[0;32m    324\u001b[0m         (k[\u001b[38;5;241m0\u001b[39m], \u001b[38;5;241m0\u001b[39m): v\n\u001b[0;32m    325\u001b[0m         \u001b[38;5;28;01mfor\u001b[39;00m k, v \u001b[38;5;129;01min\u001b[39;00m evidence_time\u001b[38;5;241m.\u001b[39mitems()\n\u001b[0;32m    326\u001b[0m         \u001b[38;5;28;01mif\u001b[39;00m k \u001b[38;5;129;01min\u001b[39;00m \u001b[38;5;28mself\u001b[39m\u001b[38;5;241m.\u001b[39minterface_nodes_1\n\u001b[0;32m    327\u001b[0m     }\n",
      "File \u001b[1;32m~\\anaconda3\\envs\\rai\\lib\\site-packages\\pgmpy\\inference\\dbn_inference.py:184\u001b[0m, in \u001b[0;36mDBNInference._update_belief\u001b[1;34m(self, belief_prop, clique, clique_potential, message)\u001b[0m\n\u001b[0;32m    182\u001b[0m \u001b[38;5;28;01melse\u001b[39;00m:\n\u001b[0;32m    183\u001b[0m     new_factor \u001b[38;5;241m=\u001b[39m old_factor \u001b[38;5;241m*\u001b[39m clique_potential\n\u001b[1;32m--> 184\u001b[0m \u001b[43mbelief_prop\u001b[49m\u001b[38;5;241;43m.\u001b[39;49m\u001b[43mjunction_tree\u001b[49m\u001b[38;5;241;43m.\u001b[39;49m\u001b[43madd_factors\u001b[49m\u001b[43m(\u001b[49m\u001b[43mnew_factor\u001b[49m\u001b[43m)\u001b[49m\n\u001b[0;32m    185\u001b[0m belief_prop\u001b[38;5;241m.\u001b[39mcalibrate()\n",
      "File \u001b[1;32m~\\anaconda3\\envs\\rai\\lib\\site-packages\\pgmpy\\models\\ClusterGraph.py:158\u001b[0m, in \u001b[0;36mClusterGraph.add_factors\u001b[1;34m(self, *factors)\u001b[0m\n\u001b[0;32m    156\u001b[0m nodes \u001b[38;5;241m=\u001b[39m [\u001b[38;5;28mset\u001b[39m(node) \u001b[38;5;28;01mfor\u001b[39;00m node \u001b[38;5;129;01min\u001b[39;00m \u001b[38;5;28mself\u001b[39m\u001b[38;5;241m.\u001b[39mnodes()]\n\u001b[0;32m    157\u001b[0m \u001b[38;5;28;01mif\u001b[39;00m factor_scope \u001b[38;5;129;01mnot\u001b[39;00m \u001b[38;5;129;01min\u001b[39;00m nodes:\n\u001b[1;32m--> 158\u001b[0m     \u001b[38;5;28;01mraise\u001b[39;00m \u001b[38;5;167;01mValueError\u001b[39;00m(\n\u001b[0;32m    159\u001b[0m         \u001b[38;5;124m\"\u001b[39m\u001b[38;5;124mFactors defined on clusters of variable not\u001b[39m\u001b[38;5;124m\"\u001b[39m \u001b[38;5;124m\"\u001b[39m\u001b[38;5;124mpresent in model\u001b[39m\u001b[38;5;124m\"\u001b[39m\n\u001b[0;32m    160\u001b[0m     )\n\u001b[0;32m    162\u001b[0m \u001b[38;5;28mself\u001b[39m\u001b[38;5;241m.\u001b[39mfactors\u001b[38;5;241m.\u001b[39mappend(factor)\n",
      "\u001b[1;31mValueError\u001b[0m: Factors defined on clusters of variable notpresent in model"
     ]
    }
   ],
   "source": [
    "dbn_inf.query([('P',0)], {('C', 1):0, ('A', 0):0})"
   ]
  },
  {
   "cell_type": "code",
<<<<<<< HEAD
   "execution_count": 17,
=======
   "execution_count": 44,
>>>>>>> c7faa8016eb4123657f54b3c8cc6372d72ac5057
   "id": "e1ac4441",
   "metadata": {},
   "outputs": [
    {
     "data": {
      "text/plain": [
       "array([0.66594382, 0.33405618])"
      ]
     },
<<<<<<< HEAD
     "execution_count": 17,
=======
     "execution_count": 44,
>>>>>>> c7faa8016eb4123657f54b3c8cc6372d72ac5057
     "metadata": {},
     "output_type": "execute_result"
    }
   ],
   "source": [
    "dbnet = DBN()\n",
    "dbnet.add_edges_from([(('C', 0), ('A', 0)), (('A', 0), ('P', 0)),\n",
    "                      (('C', 0), ('C', 1))])\n",
    "\n",
    "z_start_cpd = TabularCPD(('C', 0), 2, [[0.5], [0.5]])\n",
    "\n",
    "x_i_cpd = TabularCPD(('A', 0), 2, [[0.6, 0.9],\n",
    "                                   [0.4, 0.1]],\n",
    "                     evidence=[('C', 0)],\n",
    "                     evidence_card=[2])\n",
    "\n",
    "y_i_cpd = TabularCPD(('P', 0), 2, [[0.2, 0.3],\n",
    "                                   [0.8, 0.7]],\n",
    "                     evidence=[('A', 0)],\n",
    "                     evidence_card=[2])\n",
    "\n",
    "z_trans_cpd = TabularCPD(('C', 1), 2, [[0.4, 0.7],\n",
    "                                       [0.6, 0.3]],\n",
    "                     evidence=[('C', 0)],\n",
    "                     evidence_card=[2])\n",
    "\n",
    "dbnet.add_cpds(z_start_cpd, z_trans_cpd, x_i_cpd, y_i_cpd)\n",
    "dbnet.initialize_initial_state()\n",
    "dbn_inf = DBNInference(dbnet)\n",
<<<<<<< HEAD
    "\n",
    "# dbnet.check_model()\n",
    "\n",
    "dbn_inf.query([('C', 1)], {('A', 1):0, ('P', 1):1})[('C', 1)].values\n",
    "# dbn_inf.backward_inference([('A', 0)], {('P', 0):0, ('P', 1):1, ('P', 2):1})[('A', 0)].values"
   ]
  },
  {
   "cell_type": "code",
   "execution_count": 18,
   "id": "e6771cab",
   "metadata": {},
   "outputs": [
    {
     "ename": "ValueError",
     "evalue": "Factors defined on clusters of variable notpresent in model",
     "output_type": "error",
     "traceback": [
      "\u001b[1;31m---------------------------------------------------------------------------\u001b[0m",
      "\u001b[1;31mValueError\u001b[0m                                Traceback (most recent call last)",
      "Input \u001b[1;32mIn [18]\u001b[0m, in \u001b[0;36m<cell line: 1>\u001b[1;34m()\u001b[0m\n\u001b[1;32m----> 1\u001b[0m \u001b[43mdbn_inf\u001b[49m\u001b[38;5;241;43m.\u001b[39;49m\u001b[43mquery\u001b[49m\u001b[43m(\u001b[49m\u001b[43m[\u001b[49m\u001b[43m(\u001b[49m\u001b[38;5;124;43m'\u001b[39;49m\u001b[38;5;124;43mA\u001b[39;49m\u001b[38;5;124;43m'\u001b[39;49m\u001b[43m,\u001b[49m\u001b[43m \u001b[49m\u001b[38;5;241;43m1\u001b[39;49m\u001b[43m)\u001b[49m\u001b[43m]\u001b[49m\u001b[43m,\u001b[49m\u001b[43m \u001b[49m\u001b[43m{\u001b[49m\u001b[43m(\u001b[49m\u001b[38;5;124;43m'\u001b[39;49m\u001b[38;5;124;43mC\u001b[39;49m\u001b[38;5;124;43m'\u001b[39;49m\u001b[43m,\u001b[49m\u001b[43m \u001b[49m\u001b[38;5;241;43m0\u001b[39;49m\u001b[43m)\u001b[49m\u001b[43m:\u001b[49m\u001b[38;5;241;43m0\u001b[39;49m\u001b[43m,\u001b[49m\u001b[43m \u001b[49m\u001b[43m(\u001b[49m\u001b[38;5;124;43m'\u001b[39;49m\u001b[38;5;124;43mC\u001b[39;49m\u001b[38;5;124;43m'\u001b[39;49m\u001b[43m,\u001b[49m\u001b[43m \u001b[49m\u001b[38;5;241;43m1\u001b[39;49m\u001b[43m)\u001b[49m\u001b[43m:\u001b[49m\u001b[38;5;241;43m0\u001b[39;49m\u001b[43m}\u001b[49m\u001b[43m)\u001b[49m[(\u001b[38;5;124m'\u001b[39m\u001b[38;5;124mA\u001b[39m\u001b[38;5;124m'\u001b[39m, \u001b[38;5;241m1\u001b[39m)]\u001b[38;5;241m.\u001b[39mvalues\n",
      "File \u001b[1;32m~\\anaconda3\\envs\\rai\\lib\\site-packages\\pgmpy\\inference\\dbn_inference.py:474\u001b[0m, in \u001b[0;36mDBNInference.query\u001b[1;34m(self, variables, evidence, args)\u001b[0m\n\u001b[0;32m    434\u001b[0m \u001b[38;5;124;03m\"\"\"\u001b[39;00m\n\u001b[0;32m    435\u001b[0m \u001b[38;5;124;03mQuery method for Dynamic Bayesian Network using Interface Algorithm.\u001b[39;00m\n\u001b[0;32m    436\u001b[0m \n\u001b[1;32m   (...)\u001b[0m\n\u001b[0;32m    471\u001b[0m \u001b[38;5;124;03marray([0.66594382, 0.33405618])\u001b[39;00m\n\u001b[0;32m    472\u001b[0m \u001b[38;5;124;03m\"\"\"\u001b[39;00m\n\u001b[0;32m    473\u001b[0m \u001b[38;5;28;01mif\u001b[39;00m args \u001b[38;5;241m==\u001b[39m \u001b[38;5;124m\"\u001b[39m\u001b[38;5;124mexact\u001b[39m\u001b[38;5;124m\"\u001b[39m:\n\u001b[1;32m--> 474\u001b[0m     \u001b[38;5;28;01mreturn\u001b[39;00m \u001b[38;5;28;43mself\u001b[39;49m\u001b[38;5;241;43m.\u001b[39;49m\u001b[43mbackward_inference\u001b[49m\u001b[43m(\u001b[49m\u001b[43mvariables\u001b[49m\u001b[43m,\u001b[49m\u001b[43m \u001b[49m\u001b[43mevidence\u001b[49m\u001b[43m)\u001b[49m\n",
      "File \u001b[1;32m~\\anaconda3\\envs\\rai\\lib\\site-packages\\pgmpy\\inference\\dbn_inference.py:384\u001b[0m, in \u001b[0;36mDBNInference.backward_inference\u001b[1;34m(self, variables, evidence)\u001b[0m\n\u001b[0;32m    382\u001b[0m     time_range \u001b[38;5;241m=\u001b[39m \u001b[38;5;28mmax\u001b[39m(time_range, evid_time_range)\n\u001b[0;32m    383\u001b[0m end_bp \u001b[38;5;241m=\u001b[39m BeliefPropagation(\u001b[38;5;28mself\u001b[39m\u001b[38;5;241m.\u001b[39mstart_junction_tree)\n\u001b[1;32m--> 384\u001b[0m potential_dict \u001b[38;5;241m=\u001b[39m \u001b[38;5;28;43mself\u001b[39;49m\u001b[38;5;241;43m.\u001b[39;49m\u001b[43mforward_inference\u001b[49m\u001b[43m(\u001b[49m\u001b[43mvariables\u001b[49m\u001b[43m,\u001b[49m\u001b[43m \u001b[49m\u001b[43mevidence\u001b[49m\u001b[43m,\u001b[49m\u001b[43m \u001b[49m\u001b[38;5;124;43m\"\u001b[39;49m\u001b[38;5;124;43mpotential\u001b[39;49m\u001b[38;5;124;43m\"\u001b[39;49m\u001b[43m)\u001b[49m\n\u001b[0;32m    385\u001b[0m update_factor \u001b[38;5;241m=\u001b[39m \u001b[38;5;28mself\u001b[39m\u001b[38;5;241m.\u001b[39m_shift_factor(potential_dict[time_range], \u001b[38;5;241m1\u001b[39m)\n\u001b[0;32m    386\u001b[0m factor_values \u001b[38;5;241m=\u001b[39m {}\n",
      "File \u001b[1;32m~\\anaconda3\\envs\\rai\\lib\\site-packages\\pgmpy\\inference\\dbn_inference.py:320\u001b[0m, in \u001b[0;36mDBNInference.forward_inference\u001b[1;34m(self, variables, evidence, args)\u001b[0m\n\u001b[0;32m    318\u001b[0m potential_dict[time_slice] \u001b[38;5;241m=\u001b[39m new_factor\n\u001b[0;32m    319\u001b[0m mid_bp \u001b[38;5;241m=\u001b[39m BeliefPropagation(\u001b[38;5;28mself\u001b[39m\u001b[38;5;241m.\u001b[39mone_and_half_junction_tree)\n\u001b[1;32m--> 320\u001b[0m \u001b[38;5;28;43mself\u001b[39;49m\u001b[38;5;241;43m.\u001b[39;49m\u001b[43m_update_belief\u001b[49m\u001b[43m(\u001b[49m\u001b[43mmid_bp\u001b[49m\u001b[43m,\u001b[49m\u001b[43m \u001b[49m\u001b[38;5;28;43mself\u001b[39;49m\u001b[38;5;241;43m.\u001b[39;49m\u001b[43min_clique\u001b[49m\u001b[43m,\u001b[49m\u001b[43m \u001b[49m\u001b[43mnew_factor\u001b[49m\u001b[43m)\u001b[49m\n\u001b[0;32m    322\u001b[0m \u001b[38;5;28;01mif\u001b[39;00m evidence_time:\n\u001b[0;32m    323\u001b[0m     interface_nodes_dict \u001b[38;5;241m=\u001b[39m {\n\u001b[0;32m    324\u001b[0m         (k[\u001b[38;5;241m0\u001b[39m], \u001b[38;5;241m0\u001b[39m): v\n\u001b[0;32m    325\u001b[0m         \u001b[38;5;28;01mfor\u001b[39;00m k, v \u001b[38;5;129;01min\u001b[39;00m evidence_time\u001b[38;5;241m.\u001b[39mitems()\n\u001b[0;32m    326\u001b[0m         \u001b[38;5;28;01mif\u001b[39;00m k \u001b[38;5;129;01min\u001b[39;00m \u001b[38;5;28mself\u001b[39m\u001b[38;5;241m.\u001b[39minterface_nodes_1\n\u001b[0;32m    327\u001b[0m     }\n",
      "File \u001b[1;32m~\\anaconda3\\envs\\rai\\lib\\site-packages\\pgmpy\\inference\\dbn_inference.py:184\u001b[0m, in \u001b[0;36mDBNInference._update_belief\u001b[1;34m(self, belief_prop, clique, clique_potential, message)\u001b[0m\n\u001b[0;32m    182\u001b[0m \u001b[38;5;28;01melse\u001b[39;00m:\n\u001b[0;32m    183\u001b[0m     new_factor \u001b[38;5;241m=\u001b[39m old_factor \u001b[38;5;241m*\u001b[39m clique_potential\n\u001b[1;32m--> 184\u001b[0m \u001b[43mbelief_prop\u001b[49m\u001b[38;5;241;43m.\u001b[39;49m\u001b[43mjunction_tree\u001b[49m\u001b[38;5;241;43m.\u001b[39;49m\u001b[43madd_factors\u001b[49m\u001b[43m(\u001b[49m\u001b[43mnew_factor\u001b[49m\u001b[43m)\u001b[49m\n\u001b[0;32m    185\u001b[0m belief_prop\u001b[38;5;241m.\u001b[39mcalibrate()\n",
      "File \u001b[1;32m~\\anaconda3\\envs\\rai\\lib\\site-packages\\pgmpy\\models\\ClusterGraph.py:158\u001b[0m, in \u001b[0;36mClusterGraph.add_factors\u001b[1;34m(self, *factors)\u001b[0m\n\u001b[0;32m    156\u001b[0m nodes \u001b[38;5;241m=\u001b[39m [\u001b[38;5;28mset\u001b[39m(node) \u001b[38;5;28;01mfor\u001b[39;00m node \u001b[38;5;129;01min\u001b[39;00m \u001b[38;5;28mself\u001b[39m\u001b[38;5;241m.\u001b[39mnodes()]\n\u001b[0;32m    157\u001b[0m \u001b[38;5;28;01mif\u001b[39;00m factor_scope \u001b[38;5;129;01mnot\u001b[39;00m \u001b[38;5;129;01min\u001b[39;00m nodes:\n\u001b[1;32m--> 158\u001b[0m     \u001b[38;5;28;01mraise\u001b[39;00m \u001b[38;5;167;01mValueError\u001b[39;00m(\n\u001b[0;32m    159\u001b[0m         \u001b[38;5;124m\"\u001b[39m\u001b[38;5;124mFactors defined on clusters of variable not\u001b[39m\u001b[38;5;124m\"\u001b[39m \u001b[38;5;124m\"\u001b[39m\u001b[38;5;124mpresent in model\u001b[39m\u001b[38;5;124m\"\u001b[39m\n\u001b[0;32m    160\u001b[0m     )\n\u001b[0;32m    162\u001b[0m \u001b[38;5;28mself\u001b[39m\u001b[38;5;241m.\u001b[39mfactors\u001b[38;5;241m.\u001b[39mappend(factor)\n",
      "\u001b[1;31mValueError\u001b[0m: Factors defined on clusters of variable notpresent in model"
     ]
    }
   ],
   "source": [
    "dbn_inf.query([('A', 1)], {('C', 0):0, ('C', 1):0})[('A', 1)].values"
=======
    "dbn_inf.query([('A', 0)], {('P', 0):0, ('P', 1):1, ('P', 2):1})[('A', 0)].values"
>>>>>>> c7faa8016eb4123657f54b3c8cc6372d72ac5057
   ]
  },
  {
   "cell_type": "code",
   "execution_count": 22,
   "id": "f68cae46",
   "metadata": {},
   "outputs": [
    {
     "data": {
      "text/plain": [
       "array([0.66594382, 0.33405618])"
      ]
     },
     "execution_count": 22,
     "metadata": {},
     "output_type": "execute_result"
    }
   ],
   "source": [
    "from pgmpy.factors.discrete import TabularCPD\n",
    "from pgmpy.models import DynamicBayesianNetwork as DBN\n",
    "from pgmpy.inference import DBNInference\n",
    "dbnet = DBN()\n",
    "dbnet.add_edges_from([\n",
    "    (('Z', 0), ('X', 0)), \n",
    "    (('X', 0), ('Y', 0)),\n",
    "    (('Z', 0), ('Z', 1)),\n",
    "    (('X', 0), ('Z', 1)),\n",
    "])\n",
    "\n",
    "z_start_cpd = TabularCPD(('Z', 0), 2, [[0.5], [0.5]])\n",
    "x_i_cpd = TabularCPD(('X', 0), 2, [[0.6, 0.9],\n",
    "                                   [0.4, 0.1]],\n",
    "                     evidence=[('Z', 0)],\n",
    "                     evidence_card=[2])\n",
    "\n",
    "y_i_cpd = TabularCPD(('Y', 0), 2, [[0.2, 0.3],\n",
    "                                   [0.8, 0.7]],\n",
    "                     evidence=[('X', 0)],\n",
    "                     evidence_card=[2])\n",
    "\n",
    "z_trans_cpd = TabularCPD(('Z', 1), 2, [[0.4, 0.7],\n",
    "                                       [0.6, 0.3]],\n",
    "                     evidence=[('Z', 0)],\n",
    "                     evidence_card=[2])\n",
    "dbnet.add_cpds(z_start_cpd, z_trans_cpd, x_i_cpd, y_i_cpd)\n",
    "dbnet.initialize_initial_state()\n",
    "dbn_inf = DBNInference(dbnet)\n",
    "dbn_inf.query([('X', 0)], {('Y', 0):0, ('Y', 1):1, ('Y', 2):1})[('X', 0)].values"
   ]
  },
  {
   "cell_type": "code",
   "execution_count": null,
   "id": "40ccc504",
   "metadata": {},
   "outputs": [],
   "source": []
  }
 ],
 "metadata": {
  "kernelspec": {
   "display_name": "Python 3 (ipykernel)",
   "language": "python",
   "name": "python3"
  },
  "language_info": {
   "codemirror_mode": {
    "name": "ipython",
    "version": 3
   },
   "file_extension": ".py",
   "mimetype": "text/x-python",
   "name": "python",
   "nbconvert_exporter": "python",
   "pygments_lexer": "ipython3",
   "version": "3.8.13"
  }
 },
 "nbformat": 4,
 "nbformat_minor": 5
}
