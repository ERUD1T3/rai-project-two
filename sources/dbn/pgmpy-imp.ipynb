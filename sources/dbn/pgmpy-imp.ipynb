{
 "cells": [
  {
   "cell_type": "code",
   "execution_count": 1,
   "id": "530139ff",
   "metadata": {},
   "outputs": [],
   "source": [
    "from pgmpy.factors.discrete import TabularCPD\n",
    "from pgmpy.models import DynamicBayesianNetwork as DBN\n",
    "from pgmpy.inference import DBNInference"
   ]
  },
  {
   "cell_type": "code",
   "execution_count": 8,
   "id": "4786c84e",
   "metadata": {},
   "outputs": [],
   "source": [
    "dbnet = DBN()\n",
    "dbnet.add_edges_from([\n",
    "    (('C', 0), ('A', 0)),\n",
    "    (('C', 0), ('A', 1)),\n",
    "    (('A', 0), ('P', 0)), \n",
    "    (('A', 0), ('P', 1)),\n",
    "    (('C', 1), ('A', 1)),\n",
    "    (('A', 1), ('P', 1))\n",
    "])"
   ]
  },
  {
   "cell_type": "code",
   "execution_count": 9,
   "id": "2869c898",
   "metadata": {},
   "outputs": [],
   "source": [
    "close_cpd = TabularCPD(('C', 0), 2, [[0.9], [0.1]])\n",
    "\n",
    "action_cpd = TabularCPD(('A', 0), 3, [[0, 0], \n",
    "                                   [0.15, 0.89], \n",
    "                                   [0.85, 0.11]],\n",
    "                    evidence=[('C', 0)],\n",
    "                    evidence_card=[2])\n",
    "\n",
    "passed_door_cpd = TabularCPD(('P', 0), 2, [[0.95, 0, 0.05],\n",
    "                                           [0.05, 1, 0.95]],\n",
    "                        evidence=[('A', 0)],\n",
    "                        evidence_card=[3])\n",
    "\n",
    "c_i_cpd = TabularCPD(('C', 1), 2, [[0.9],\n",
    "                                   [0.1]])\n",
    "\n",
    "a_i_cpd = TabularCPD(('A', 1), 3, [[0.2, 0, 0.92, 0], \n",
    "                                   [0, 0.88, 0, 0.15], \n",
    "                                   [0.8, 0.12, 0.08, 0.85]],\n",
    "                    evidence=[('C', 0), ('C', 1)],\n",
    "                    evidence_card=[2, 2])\n",
    "\n",
    "p_i_cpd = TabularCPD(('P', 1), 2, [[0, 0.1, 0.03, 0, 0.15, 0.95, 0, 0.15, 0], \n",
    "                                   [1, 0.9, 0.97, 1, 0.85, 0.05, 1, 0.85, 1]],\n",
    "                    evidence=[('A', 0), ('A', 1)],\n",
    "                    evidence_card=[3, 3])"
   ]
  },
  {
   "cell_type": "code",
   "execution_count": 10,
   "id": "f68e6207",
   "metadata": {},
   "outputs": [],
   "source": [
    "dbnet.add_cpds(close_cpd, action_cpd, passed_door_cpd, c_i_cpd, a_i_cpd, p_i_cpd)\n",
    "\n",
    "dbnet.initialize_initial_state()"
   ]
  },
  {
   "cell_type": "code",
   "execution_count": 11,
   "id": "7e711d9d",
   "metadata": {},
   "outputs": [],
   "source": [
    "dbn_inf = DBNInference(dbnet)"
   ]
  },
  {
   "cell_type": "code",
   "execution_count": null,
   "id": "5fcb3276",
   "metadata": {},
   "outputs": [],
   "source": []
  }
 ],
 "metadata": {
  "kernelspec": {
   "display_name": "Python 3 (ipykernel)",
   "language": "python",
   "name": "python3"
  },
  "language_info": {
   "codemirror_mode": {
    "name": "ipython",
    "version": 3
   },
   "file_extension": ".py",
   "mimetype": "text/x-python",
   "name": "python",
   "nbconvert_exporter": "python",
   "pygments_lexer": "ipython3",
   "version": "3.8.13"
  }
 },
 "nbformat": 4,
 "nbformat_minor": 5
}
