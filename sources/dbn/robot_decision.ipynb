{
 "cells": [
  {
   "cell_type": "code",
   "execution_count": 62,
   "id": "1a1e101a",
   "metadata": {},
   "outputs": [],
   "source": [
    "import pandas as pd\n",
    "import numpy as  np\n",
    "from pgmpy.factors.discrete import TabularCPD\n",
    "from pgmpy.models import BayesianNetwork as BN\n",
    "from pgmpy.models import DynamicBayesianNetwork as DBN\n",
    "from pgmpy.inference import DBNInference, VariableElimination\n",
    "import glob\n",
    "import sys"
   ]
  },
  {
   "cell_type": "code",
   "execution_count": 2,
   "id": "3d7fd990",
   "metadata": {},
   "outputs": [],
   "source": [
    "bnet = BN()\n",
    "bnet.add_edges_from([\n",
    "    ('start_close', 'start_action'),\n",
    "    ('next_close', 'next_action'), \n",
    "    ('next_action', 'next_door'),\n",
    "    ('start_close', 'next_action'),\n",
    "    ('start_action', 'next_door')\n",
    "])"
   ]
  },
  {
   "cell_type": "code",
   "execution_count": 3,
   "id": "60e3de5c",
   "metadata": {},
   "outputs": [],
   "source": [
    "#Close to door or not. If dist < sensor_dist then 0.9 prob it is close\n",
    "close_cpd = TabularCPD('start_close', 2, [[0.1], [0.9]])\n",
    "\n",
    "#Probability a certain action is taken. For first step, if Close is True, 0 prob it walks back, 0.15 it walks forward, 0.85 it stays\n",
    "action_cpd = TabularCPD('start_action', 3, [[0, 0], \n",
    "                                   [0.89, 0.15], \n",
    "                                   [0.11, 0.85]],\n",
    "                    evidence=['start_close'],\n",
    "                    evidence_card=[2])\n",
    "\n",
    "c_i_cpd = TabularCPD('next_close', 2, [[0.1],\n",
    "                                   [0.9]])\n",
    "\n",
    "a_i_cpd = TabularCPD('next_action', 3, [[0, 0.12, 0, 0.10], \n",
    "                                   [0.8, 0, 0.92, 0], \n",
    "                                   [0.2, 0.88, 0.08, 0.9]],\n",
    "                    evidence=['start_close', 'next_close'],\n",
    "                    evidence_card=[2, 2])\n",
    "\n",
    "p_i_cpd = TabularCPD('next_door', 2, [[0.9, 0.95, 0.97, 0.3, 0.98, 0.98, 0.02, 0.95, 0.98], \n",
    "                                   [0.1, 0.05, 0.03, 0.7, 0.02, 0.02, 0.98, 0.05, 0.03]],\n",
    "                    evidence=['start_action', 'next_action'],\n",
    "                    evidence_card=[3, 3])"
   ]
  },
  {
   "cell_type": "code",
   "execution_count": 4,
   "id": "8197b995",
   "metadata": {},
   "outputs": [],
   "source": [
    "bnet.add_cpds(close_cpd, action_cpd, c_i_cpd, a_i_cpd, p_i_cpd)"
   ]
  },
  {
   "cell_type": "code",
   "execution_count": 5,
   "id": "ae99d65b",
   "metadata": {},
   "outputs": [
    {
     "data": {
      "text/plain": [
       "True"
      ]
     },
     "execution_count": 5,
     "metadata": {},
     "output_type": "execute_result"
    }
   ],
   "source": [
    "bnet.check_model()"
   ]
  },
  {
   "cell_type": "code",
   "execution_count": 6,
   "id": "ece5f364",
   "metadata": {},
   "outputs": [
    {
     "data": {
      "text/plain": [
       "NodeView(('start_close', 'start_action', 'next_close', 'next_action', 'next_door'))"
      ]
     },
     "execution_count": 6,
     "metadata": {},
     "output_type": "execute_result"
    }
   ],
   "source": [
    "bnet.nodes()"
   ]
  },
  {
   "cell_type": "code",
   "execution_count": 7,
   "id": "5e88c524",
   "metadata": {},
   "outputs": [
    {
     "data": {
      "text/plain": [
       "OutEdgeView([('start_close', 'start_action'), ('start_close', 'next_action'), ('start_action', 'next_door'), ('next_close', 'next_action'), ('next_action', 'next_door')])"
      ]
     },
     "execution_count": 7,
     "metadata": {},
     "output_type": "execute_result"
    }
   ],
   "source": [
    "bnet.edges()"
   ]
  },
  {
   "cell_type": "code",
   "execution_count": 8,
   "id": "771c4221",
   "metadata": {},
   "outputs": [
    {
     "data": {
      "text/plain": [
       "(start_action ⟂ next_close)\n",
       "(start_action ⟂ next_close, next_action | start_close)\n",
       "(start_action ⟂ next_action | next_close, start_close)\n",
       "(start_action ⟂ next_close | start_close, next_action)\n",
       "(start_action ⟂ next_close | start_close, next_action, next_door)\n",
       "(start_close ⟂ next_close)\n",
       "(start_close ⟂ next_close | start_action)\n",
       "(start_close ⟂ next_door | start_action, next_action)\n",
       "(start_close ⟂ next_door | next_close, start_action, next_action)\n",
       "(next_close ⟂ start_action, start_close)\n",
       "(next_close ⟂ start_close | start_action)\n",
       "(next_close ⟂ start_action | start_close)\n",
       "(next_close ⟂ next_door | start_action, next_action)\n",
       "(next_close ⟂ start_action, next_door | start_close, next_action)\n",
       "(next_close ⟂ next_door | start_action, start_close, next_action)\n",
       "(next_close ⟂ start_action | start_close, next_action, next_door)\n",
       "(next_action ⟂ start_action | start_close)\n",
       "(next_action ⟂ start_action | next_close, start_close)\n",
       "(next_door ⟂ next_close, start_close | start_action, next_action)\n",
       "(next_door ⟂ next_close | start_close, next_action)\n",
       "(next_door ⟂ start_close | next_close, start_action, next_action)\n",
       "(next_door ⟂ next_close | start_action, start_close, next_action)"
      ]
     },
     "execution_count": 8,
     "metadata": {},
     "output_type": "execute_result"
    }
   ],
   "source": [
    "bnet.get_independencies()"
   ]
  },
  {
   "cell_type": "code",
   "execution_count": 9,
   "id": "d5d55d2b",
   "metadata": {},
   "outputs": [
    {
     "name": "stdout",
     "output_type": "stream",
     "text": [
      "+----------------+--------------------+\n",
      "| next_action    |   phi(next_action) |\n",
      "+================+====================+\n",
      "| next_action(0) |             0.1200 |\n",
      "+----------------+--------------------+\n",
      "| next_action(1) |             0.0000 |\n",
      "+----------------+--------------------+\n",
      "| next_action(2) |             0.8800 |\n",
      "+----------------+--------------------+\n"
     ]
    }
   ],
   "source": [
    "from pgmpy.inference import VariableElimination\n",
    "\n",
    "infer = VariableElimination(bnet)\n",
    "probs = infer.query(['next_action'], evidence={'start_close':0, 'next_close':1})\n",
    "print(probs)"
   ]
  },
  {
   "cell_type": "code",
   "execution_count": 17,
   "id": "1cae33e4",
   "metadata": {},
   "outputs": [],
   "source": [
    "def queryModel(inf, qry: str, prev: int, curr: int):\n",
    "    \n",
    "    if qry == 'a':\n",
    "        probs = inf.query(['next_action'], {'start_close':prev, 'next_close':curr})\n",
    "        return np.random.choice(3, p=probs.values)\n",
    "    elif qry == 'd':\n",
    "        probs = inf.query(['next_door'], {'start_action':prev, 'next_action':curr})\n",
    "        return np.random.choice(2, p=probs.values)\n",
    "    \n",
    "    return -1"
   ]
  },
  {
   "cell_type": "code",
   "execution_count": 61,
   "id": "2dc8eb15",
   "metadata": {},
   "outputs": [
    {
     "data": {
      "text/plain": [
       "0"
      ]
     },
     "execution_count": 61,
     "metadata": {},
     "output_type": "execute_result"
    }
   ],
   "source": [
    "decision = queryModel(infer, str(sys.argv[1]), int(sys.argv[2]), int(sys.argv[3]))\n",
    "\n",
    "print(decision)"
   ]
  }
 ],
 "metadata": {
  "kernelspec": {
   "display_name": "Python 3 (ipykernel)",
   "language": "python",
   "name": "python3"
  },
  "language_info": {
   "codemirror_mode": {
    "name": "ipython",
    "version": 3
   },
   "file_extension": ".py",
   "mimetype": "text/x-python",
   "name": "python",
   "nbconvert_exporter": "python",
   "pygments_lexer": "ipython3",
   "version": "3.8.13"
  }
 },
 "nbformat": 4,
 "nbformat_minor": 5
}
