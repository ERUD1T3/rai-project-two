{
 "cells": [
  {
   "cell_type": "markdown",
   "metadata": {},
   "source": [
    "# CSE 5694 - Robotics and AI - Project 1 \n",
    "\n",
    "This project aims at implementing a sensor fusion module based on a Bayesian Network whereby the robot (NAO), when moving along a wall using it's sensors,  decides: \n",
    "- whether it has just passed by a door 10cm ago.\n",
    "- what is it's actual distance from the wall (as a probability distribution)\n",
    "\n",
    "## Team\n",
    "\n",
    "- Josias Moukpe jmoukpe2016@my.fit.edu \n",
    "- William Stern Wstern2019@my.fit.edu\n",
    "- Akill Hosang Ahosang2021@my.fit.edu\n",
    "- Ancuta ancuta@knights.ucf.edu \n",
    "\n",
    "## Description\n",
    "\n",
    "Our aim is to implement a sensor fusion module based on a Bayesian Network. We are working with the NAO robot from Softbank robotics. NAO is a bipedal robot with a remarkable suite of sensors. However, for this project, we will focus on using NAO's sonar sensors to measure its distance to the wall. NAO will side step along the wall and, when has moved 0.1 meters past an open door, will exclaim \"I just past the door!\". \n",
    "To build the Bayesian Network, we have devised the following random variables:\n",
    "\n",
    "- D: the event of passing by the door (True/False) \n",
    "- $Z_t$: observation or distance from the wall reported by sonar at time $t$ being less than a $\\tau = 0.5$ meters.(True/False)\n",
    "- $A_t$: action or whether the robot has moved either forward or backward (True) or not moved (False).  (True/False)\n",
    "- $t$: timestep variable. Each timestep is 1 second and the robot will move about 0.1 meters per timestep for a total of 2 meters in a 20s overal timestep window.\n",
    "\n",
    "\n",
    "From there then follows the Bayesian Network below:\n",
    "\n",
    "#### 20 seconds Time window Bayesion Network\n",
    "<img src=\"bn.png\" >\n",
    "\n",
    "Based on the Network, we would like to find $P(D = true | A_1, A_2 ..., A_n)$ as the probability that the robot passed by the door given the actions it has taken until the last timestep at $n$. It depends on the actions because, as the robot moves along the ways, it is trying to maintain constant distance from the wall and will adjust it's trajectory to maintain course. If the robot sense 2 major course correction due to a change the measured distance from the wall, then we know, it has passed an opened door.\n",
    "\n",
    "To calculate make our conditional propability tables, we collected samples over several runs and collected them into csv files. The probabilities where then found according to the following formulas:\n",
    "\n",
    "$P(Z_i) = \\frac{\\sum{(Z_i = True) in all samples}}{\\sum{Z_i in all samples}}$\\\n",
    "$P(A_i|Z_i = True) = \\frac{\\sum{(A_i = True) in all samples where Z_i = True}}{\\sum{A_i in all samples where Z_i = True}}$\\\n",
    "$P(A_i|Z_i = False) = \\frac{\\sum{(A_i = False) in all samples where Z_i = False}}{\\sum{A_i in all samples where Z_i = False}}$\n",
    "\n",
    "Our objective being $P(D|A_0...A_n)$, for large $n$, the CPT becomes quickly untractable. To keep it simple, we try with n = 1, meaning, for a window of every actions. Then we have as equation \\\n",
    "$P(D|A_0 = True) = \\frac{\\sum{(D = True) in all samples A_0 = True}}{\\sum{D in all samples where A_0 = True}}$\\\n",
    "$P(D|A_0 = False) = \\frac{\\sum{(D = True) in all samples A_0 = False}}{\\sum{D in all samples where A_0 = False}}$\n",
    "\n",
    "\n",
    "## Appendix\n",
    "- measurements source code: https://github.com/ERUD1T3/rai-project-one/blob/main/sources/test_files/run_measurements.py\n",
    "- cpt computing source code: https://github.com/ERUD1T3/rai-project-one/blob/main/sources/test_files/compute_cpt.py\n",
    "- sensor fusion computing belief map source code: https://github.com/ERUD1T3/rai-project-one/blob/main/sources/examples/test_files/BBN.py\n",
    "- project repository: https://github.com/ERUD1T3/rai-project-one\n",
    "- final cpts folder: https://github.com/ERUD1T3/rai-project-one/tree/main/data/cpts\n",
    "\n",
    "## References\n",
    "\n",
    "[1] https://www.cs.cmu.edu/~cga/nao/doc/user-guide.pdf\\\n",
    "[2] http://doc.aldebaran.com/1-14/naoqi/motion/control-walk-api.html#ALMotionProxy::move__floatCR.floatCR.floatCR\\\n",
    "[3] https://cs.fit.edu/~msilaghi/nao_windows/\\"
   ]
  }
 ],
 "metadata": {
  "kernelspec": {
   "display_name": "Python 2.7.18 ('py27')",
   "language": "python",
   "name": "python3"
  },
  "language_info": {
   "name": "python",
   "version": "2.7.18"
  },
  "orig_nbformat": 4,
  "vscode": {
   "interpreter": {
    "hash": "958a2b4a59b7abc88829df6517aa1013ec26cb040891a4ec3c3f6f106102dc57"
   }
  }
 },
 "nbformat": 4,
 "nbformat_minor": 2
}
